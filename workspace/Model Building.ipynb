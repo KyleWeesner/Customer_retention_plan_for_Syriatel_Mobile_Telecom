{
 "cells": [
  {
   "cell_type": "code",
   "execution_count": 2,
   "metadata": {},
   "outputs": [],
   "source": [
    "import pandas as pd\n",
    "import numpy as np\n",
    "from matplotlib import pyplot as plt\n",
    "import seaborn as sns\n",
    "\n",
    "from sklearn.model_selection import train_test_split, GridSearchCV, cross_val_score\n",
    "from sklearn.pipeline import Pipeline\n",
    "from sklearn.preprocessing import StandardScaler, OneHotEncoder, FunctionTransformer, OrdinalEncoder\n",
    "from sklearn.impute import SimpleImputer\n",
    "from sklearn.compose import ColumnTransformer\n",
    "from sklearn.linear_model import LogisticRegression\n",
    "from sklearn.ensemble import BaggingClassifier, RandomForestClassifier, \\\n",
    "ExtraTreesClassifier, VotingClassifier, StackingRegressor, GradientBoostingClassifier\n",
    "from sklearn.metrics import plot_confusion_matrix, recall_score, accuracy_score, precision_score, f1_score\n",
    "from sklearn.dummy import DummyClassifier\n",
    "from sklearn.neighbors import KNeighborsClassifier\n",
    "from sklearn.tree import DecisionTreeClassifier\n",
    "\n",
    "from imblearn.over_sampling import SMOTE\n",
    "from imblearn.pipeline import Pipeline as ImPipeline"
   ]
  },
  {
   "cell_type": "code",
   "execution_count": 3,
   "metadata": {},
   "outputs": [],
   "source": [
    " class ModelWithCV(): #class acquired through Flatiron School\n",
    "    '''Structure to save the model and more easily see its crossvalidation'''\n",
    "    \n",
    "    def __init__(self, model, model_name, X, y, cv_now=True):\n",
    "        self.model = model\n",
    "        self.name = model_name\n",
    "        self.X = X\n",
    "        self.y = y\n",
    "        # For CV results\n",
    "        self.cv_results = None\n",
    "        self.cv_mean = None\n",
    "        self.cv_median = None\n",
    "        self.cv_std = None\n",
    "        #\n",
    "        if cv_now:\n",
    "            self.cross_validate()\n",
    "        \n",
    "    def cross_validate(self, X=None, y=None, kfolds=10):\n",
    "        '''\n",
    "        Perform cross-validation and return results.\n",
    "        \n",
    "        Args: \n",
    "          X:\n",
    "            Optional; Training data to perform CV on. Otherwise use X from object\n",
    "          y:\n",
    "            Optional; Training data to perform CV on. Otherwise use y from object\n",
    "          kfolds:\n",
    "            Optional; Number of folds for CV (default is 10)  \n",
    "        '''\n",
    "        \n",
    "        cv_X = X if X else self.X\n",
    "        cv_y = y if y else self.y\n",
    "\n",
    "        self.cv_results = cross_val_score(self.model, cv_X, cv_y, cv=kfolds)\n",
    "        self.cv_mean = np.mean(self.cv_results)\n",
    "        self.cv_median = np.median(self.cv_results)\n",
    "        self.cv_std = np.std(self.cv_results)\n",
    "\n",
    "        \n",
    "    def print_cv_summary(self):\n",
    "        cv_summary = (\n",
    "        f'''CV Results for `{self.name}` model:\n",
    "            {self.cv_mean:.5f} ± {self.cv_std:.5f} accuracy\n",
    "        ''')\n",
    "        print(cv_summary)\n",
    "\n",
    "        \n",
    "    def plot_cv(self, ax):\n",
    "        '''\n",
    "        Plot the cross-validation values using the array of results and given \n",
    "        Axis for plotting.\n",
    "        '''\n",
    "        ax.set_title(f'CV Results for `{self.name}` Model')\n",
    "        # Thinner violinplot with higher bw\n",
    "        sns.violinplot(y=self.cv_results, ax=ax, bw=.4)\n",
    "        sns.swarmplot(\n",
    "                y=self.cv_results,\n",
    "                color='orange',\n",
    "                size=10,\n",
    "                alpha= 0.8,\n",
    "                ax=ax\n",
    "        )\n",
    "\n",
    "        return ax"
   ]
  },
  {
   "cell_type": "markdown",
   "metadata": {},
   "source": [
    "loaded in cleaned dataframe from Exploratory Data Analysis in Jupyter Notebook folder in this repository"
   ]
  },
  {
   "cell_type": "code",
   "execution_count": 4,
   "metadata": {},
   "outputs": [],
   "source": [
    "df = pd.read_csv('../data/clean_df.csv', index_col=0) # loaded up data and had two index colums so set to only have 1"
   ]
  },
  {
   "cell_type": "code",
   "execution_count": 5,
   "metadata": {},
   "outputs": [
    {
     "name": "stdout",
     "output_type": "stream",
     "text": [
      "<class 'pandas.core.frame.DataFrame'>\n",
      "Int64Index: 3333 entries, 0 to 3332\n",
      "Data columns (total 16 columns):\n",
      " #   Column                  Non-Null Count  Dtype  \n",
      "---  ------                  --------------  -----  \n",
      " 0   state                   3333 non-null   object \n",
      " 1   account length          3333 non-null   int64  \n",
      " 2   area code               3333 non-null   int64  \n",
      " 3   international plan      3333 non-null   int64  \n",
      " 4   voice mail plan         3333 non-null   int64  \n",
      " 5   number vmail messages   3333 non-null   int64  \n",
      " 6   total day calls         3333 non-null   int64  \n",
      " 7   total day charge        3333 non-null   float64\n",
      " 8   total eve calls         3333 non-null   int64  \n",
      " 9   total eve charge        3333 non-null   float64\n",
      " 10  total night calls       3333 non-null   int64  \n",
      " 11  total night charge      3333 non-null   float64\n",
      " 12  total intl calls        3333 non-null   int64  \n",
      " 13  total intl charge       3333 non-null   float64\n",
      " 14  customer service calls  3333 non-null   int64  \n",
      " 15  churn                   3333 non-null   int64  \n",
      "dtypes: float64(4), int64(11), object(1)\n",
      "memory usage: 442.7+ KB\n"
     ]
    }
   ],
   "source": [
    "df.info()"
   ]
  },
  {
   "cell_type": "code",
   "execution_count": 6,
   "metadata": {},
   "outputs": [],
   "source": [
    "X = df.drop(columns='churn')\n",
    "y = df.churn\n",
    "\n",
    "X_train, X_test, y_train, y_test = train_test_split(X, y, random_state=3)"
   ]
  },
  {
   "cell_type": "markdown",
   "metadata": {},
   "source": [
    "."
   ]
  },
  {
   "cell_type": "code",
   "execution_count": 7,
   "metadata": {},
   "outputs": [],
   "source": [
    "cat_cols = df[['state','area code']]\n",
    "\n",
    "num_cols = df.drop(columns=['state','area code', 'churn', 'international plan', 'voice mail plan'])\n",
    "\n",
    "#binary_cols = df[['international plan', 'voice mail plan']]"
   ]
  },
  {
   "cell_type": "code",
   "execution_count": 8,
   "metadata": {},
   "outputs": [],
   "source": [
    "subpipe_num = Pipeline(steps=[('ss', StandardScaler())])\n",
    "subpipe_cat = Pipeline(steps=[('ohe', OneHotEncoder(sparse=False, handle_unknown='ignore'))])"
   ]
  },
  {
   "cell_type": "code",
   "execution_count": 9,
   "metadata": {},
   "outputs": [
    {
     "data": {
      "text/plain": [
       "Index(['account length', 'number vmail messages', 'total day calls',\n",
       "       'total day charge', 'total eve calls', 'total eve charge',\n",
       "       'total night calls', 'total night charge', 'total intl calls',\n",
       "       'total intl charge', 'customer service calls'],\n",
       "      dtype='object')"
      ]
     },
     "execution_count": 9,
     "metadata": {},
     "output_type": "execute_result"
    }
   ],
   "source": [
    "num_cols.columns"
   ]
  },
  {
   "cell_type": "code",
   "execution_count": 10,
   "metadata": {},
   "outputs": [],
   "source": [
    "ct = ColumnTransformer(transformers= [\n",
    "    ('subpipe_num', subpipe_num, num_cols.columns),\n",
    "    ('subpipe_cat', subpipe_cat, [0,2])\n",
    "], remainder='passthrough')"
   ]
  },
  {
   "cell_type": "code",
   "execution_count": 11,
   "metadata": {},
   "outputs": [
    {
     "data": {
      "text/html": [
       "<div>\n",
       "<style scoped>\n",
       "    .dataframe tbody tr th:only-of-type {\n",
       "        vertical-align: middle;\n",
       "    }\n",
       "\n",
       "    .dataframe tbody tr th {\n",
       "        vertical-align: top;\n",
       "    }\n",
       "\n",
       "    .dataframe thead th {\n",
       "        text-align: right;\n",
       "    }\n",
       "</style>\n",
       "<table border=\"1\" class=\"dataframe\">\n",
       "  <thead>\n",
       "    <tr style=\"text-align: right;\">\n",
       "      <th></th>\n",
       "      <th>0</th>\n",
       "      <th>1</th>\n",
       "      <th>2</th>\n",
       "      <th>3</th>\n",
       "      <th>4</th>\n",
       "      <th>5</th>\n",
       "      <th>6</th>\n",
       "      <th>7</th>\n",
       "      <th>8</th>\n",
       "      <th>9</th>\n",
       "      <th>...</th>\n",
       "      <th>57</th>\n",
       "      <th>58</th>\n",
       "      <th>59</th>\n",
       "      <th>60</th>\n",
       "      <th>61</th>\n",
       "      <th>62</th>\n",
       "      <th>63</th>\n",
       "      <th>64</th>\n",
       "      <th>65</th>\n",
       "      <th>66</th>\n",
       "    </tr>\n",
       "  </thead>\n",
       "  <tbody>\n",
       "    <tr>\n",
       "      <th>0</th>\n",
       "      <td>0.527291</td>\n",
       "      <td>-0.582315</td>\n",
       "      <td>1.682410</td>\n",
       "      <td>-0.416881</td>\n",
       "      <td>1.120060</td>\n",
       "      <td>-0.302652</td>\n",
       "      <td>-2.121425</td>\n",
       "      <td>-0.085379</td>\n",
       "      <td>0.204352</td>\n",
       "      <td>-0.606383</td>\n",
       "      <td>...</td>\n",
       "      <td>0.0</td>\n",
       "      <td>0.0</td>\n",
       "      <td>0.0</td>\n",
       "      <td>0.0</td>\n",
       "      <td>0.0</td>\n",
       "      <td>0.0</td>\n",
       "      <td>0.0</td>\n",
       "      <td>1.0</td>\n",
       "      <td>0.0</td>\n",
       "      <td>0.0</td>\n",
       "    </tr>\n",
       "    <tr>\n",
       "      <th>1</th>\n",
       "      <td>-1.376394</td>\n",
       "      <td>-0.582315</td>\n",
       "      <td>-1.691942</td>\n",
       "      <td>-1.055485</td>\n",
       "      <td>-1.906901</td>\n",
       "      <td>-0.649130</td>\n",
       "      <td>-0.108357</td>\n",
       "      <td>-0.129149</td>\n",
       "      <td>0.613876</td>\n",
       "      <td>-0.181249</td>\n",
       "      <td>...</td>\n",
       "      <td>0.0</td>\n",
       "      <td>0.0</td>\n",
       "      <td>0.0</td>\n",
       "      <td>0.0</td>\n",
       "      <td>0.0</td>\n",
       "      <td>0.0</td>\n",
       "      <td>1.0</td>\n",
       "      <td>0.0</td>\n",
       "      <td>0.0</td>\n",
       "      <td>0.0</td>\n",
       "    </tr>\n",
       "    <tr>\n",
       "      <th>2</th>\n",
       "      <td>-0.023776</td>\n",
       "      <td>1.547862</td>\n",
       "      <td>1.329865</td>\n",
       "      <td>0.615205</td>\n",
       "      <td>-0.897914</td>\n",
       "      <td>-0.479333</td>\n",
       "      <td>-0.005122</td>\n",
       "      <td>0.111587</td>\n",
       "      <td>-0.614695</td>\n",
       "      <td>-0.473528</td>\n",
       "      <td>...</td>\n",
       "      <td>0.0</td>\n",
       "      <td>0.0</td>\n",
       "      <td>0.0</td>\n",
       "      <td>0.0</td>\n",
       "      <td>0.0</td>\n",
       "      <td>0.0</td>\n",
       "      <td>1.0</td>\n",
       "      <td>0.0</td>\n",
       "      <td>0.0</td>\n",
       "      <td>1.0</td>\n",
       "    </tr>\n",
       "    <tr>\n",
       "      <th>3</th>\n",
       "      <td>0.151564</td>\n",
       "      <td>-0.582315</td>\n",
       "      <td>0.070779</td>\n",
       "      <td>1.132324</td>\n",
       "      <td>0.867814</td>\n",
       "      <td>-1.433868</td>\n",
       "      <td>-0.418060</td>\n",
       "      <td>-0.312984</td>\n",
       "      <td>0.613876</td>\n",
       "      <td>0.536165</td>\n",
       "      <td>...</td>\n",
       "      <td>0.0</td>\n",
       "      <td>0.0</td>\n",
       "      <td>0.0</td>\n",
       "      <td>0.0</td>\n",
       "      <td>0.0</td>\n",
       "      <td>0.0</td>\n",
       "      <td>1.0</td>\n",
       "      <td>0.0</td>\n",
       "      <td>0.0</td>\n",
       "      <td>0.0</td>\n",
       "    </tr>\n",
       "    <tr>\n",
       "      <th>4</th>\n",
       "      <td>1.429037</td>\n",
       "      <td>-0.582315</td>\n",
       "      <td>1.279502</td>\n",
       "      <td>0.403413</td>\n",
       "      <td>-0.696116</td>\n",
       "      <td>-0.720261</td>\n",
       "      <td>-0.830997</td>\n",
       "      <td>-0.120395</td>\n",
       "      <td>0.613876</td>\n",
       "      <td>0.071175</td>\n",
       "      <td>...</td>\n",
       "      <td>0.0</td>\n",
       "      <td>0.0</td>\n",
       "      <td>0.0</td>\n",
       "      <td>0.0</td>\n",
       "      <td>0.0</td>\n",
       "      <td>1.0</td>\n",
       "      <td>0.0</td>\n",
       "      <td>0.0</td>\n",
       "      <td>0.0</td>\n",
       "      <td>0.0</td>\n",
       "    </tr>\n",
       "    <tr>\n",
       "      <th>...</th>\n",
       "      <td>...</td>\n",
       "      <td>...</td>\n",
       "      <td>...</td>\n",
       "      <td>...</td>\n",
       "      <td>...</td>\n",
       "      <td>...</td>\n",
       "      <td>...</td>\n",
       "      <td>...</td>\n",
       "      <td>...</td>\n",
       "      <td>...</td>\n",
       "      <td>...</td>\n",
       "      <td>...</td>\n",
       "      <td>...</td>\n",
       "      <td>...</td>\n",
       "      <td>...</td>\n",
       "      <td>...</td>\n",
       "      <td>...</td>\n",
       "      <td>...</td>\n",
       "      <td>...</td>\n",
       "      <td>...</td>\n",
       "      <td>...</td>\n",
       "    </tr>\n",
       "    <tr>\n",
       "      <th>2494</th>\n",
       "      <td>-0.349406</td>\n",
       "      <td>-0.582315</td>\n",
       "      <td>0.423323</td>\n",
       "      <td>0.790445</td>\n",
       "      <td>-0.696116</td>\n",
       "      <td>-1.422395</td>\n",
       "      <td>-0.882614</td>\n",
       "      <td>1.731084</td>\n",
       "      <td>-0.205172</td>\n",
       "      <td>1.545859</td>\n",
       "      <td>...</td>\n",
       "      <td>0.0</td>\n",
       "      <td>0.0</td>\n",
       "      <td>0.0</td>\n",
       "      <td>0.0</td>\n",
       "      <td>0.0</td>\n",
       "      <td>0.0</td>\n",
       "      <td>0.0</td>\n",
       "      <td>1.0</td>\n",
       "      <td>0.0</td>\n",
       "      <td>0.0</td>\n",
       "    </tr>\n",
       "    <tr>\n",
       "      <th>2495</th>\n",
       "      <td>-0.574842</td>\n",
       "      <td>-0.582315</td>\n",
       "      <td>-0.785400</td>\n",
       "      <td>0.241074</td>\n",
       "      <td>0.262421</td>\n",
       "      <td>-0.552759</td>\n",
       "      <td>0.975603</td>\n",
       "      <td>-1.415993</td>\n",
       "      <td>-1.433743</td>\n",
       "      <td>-0.008538</td>\n",
       "      <td>...</td>\n",
       "      <td>0.0</td>\n",
       "      <td>0.0</td>\n",
       "      <td>0.0</td>\n",
       "      <td>0.0</td>\n",
       "      <td>0.0</td>\n",
       "      <td>0.0</td>\n",
       "      <td>1.0</td>\n",
       "      <td>0.0</td>\n",
       "      <td>0.0</td>\n",
       "      <td>0.0</td>\n",
       "    </tr>\n",
       "    <tr>\n",
       "      <th>2496</th>\n",
       "      <td>-1.025715</td>\n",
       "      <td>-0.582315</td>\n",
       "      <td>0.876594</td>\n",
       "      <td>0.255050</td>\n",
       "      <td>0.514668</td>\n",
       "      <td>-2.250729</td>\n",
       "      <td>1.749860</td>\n",
       "      <td>0.168488</td>\n",
       "      <td>1.432923</td>\n",
       "      <td>1.067583</td>\n",
       "      <td>...</td>\n",
       "      <td>1.0</td>\n",
       "      <td>0.0</td>\n",
       "      <td>0.0</td>\n",
       "      <td>0.0</td>\n",
       "      <td>0.0</td>\n",
       "      <td>0.0</td>\n",
       "      <td>1.0</td>\n",
       "      <td>0.0</td>\n",
       "      <td>0.0</td>\n",
       "      <td>0.0</td>\n",
       "    </tr>\n",
       "    <tr>\n",
       "      <th>2497</th>\n",
       "      <td>-0.073873</td>\n",
       "      <td>-0.582315</td>\n",
       "      <td>0.322596</td>\n",
       "      <td>-1.957485</td>\n",
       "      <td>0.161523</td>\n",
       "      <td>-0.275118</td>\n",
       "      <td>0.511049</td>\n",
       "      <td>-0.514327</td>\n",
       "      <td>-0.205172</td>\n",
       "      <td>0.111031</td>\n",
       "      <td>...</td>\n",
       "      <td>0.0</td>\n",
       "      <td>0.0</td>\n",
       "      <td>0.0</td>\n",
       "      <td>0.0</td>\n",
       "      <td>0.0</td>\n",
       "      <td>0.0</td>\n",
       "      <td>1.0</td>\n",
       "      <td>0.0</td>\n",
       "      <td>0.0</td>\n",
       "      <td>0.0</td>\n",
       "    </tr>\n",
       "    <tr>\n",
       "      <th>2498</th>\n",
       "      <td>1.454086</td>\n",
       "      <td>-0.582315</td>\n",
       "      <td>0.121142</td>\n",
       "      <td>1.752651</td>\n",
       "      <td>0.413769</td>\n",
       "      <td>-0.213165</td>\n",
       "      <td>-0.366442</td>\n",
       "      <td>0.444240</td>\n",
       "      <td>0.204352</td>\n",
       "      <td>-1.004946</td>\n",
       "      <td>...</td>\n",
       "      <td>1.0</td>\n",
       "      <td>0.0</td>\n",
       "      <td>0.0</td>\n",
       "      <td>0.0</td>\n",
       "      <td>0.0</td>\n",
       "      <td>0.0</td>\n",
       "      <td>1.0</td>\n",
       "      <td>0.0</td>\n",
       "      <td>0.0</td>\n",
       "      <td>0.0</td>\n",
       "    </tr>\n",
       "  </tbody>\n",
       "</table>\n",
       "<p>2499 rows × 67 columns</p>\n",
       "</div>"
      ],
      "text/plain": [
       "            0         1         2         3         4         5         6   \\\n",
       "0     0.527291 -0.582315  1.682410 -0.416881  1.120060 -0.302652 -2.121425   \n",
       "1    -1.376394 -0.582315 -1.691942 -1.055485 -1.906901 -0.649130 -0.108357   \n",
       "2    -0.023776  1.547862  1.329865  0.615205 -0.897914 -0.479333 -0.005122   \n",
       "3     0.151564 -0.582315  0.070779  1.132324  0.867814 -1.433868 -0.418060   \n",
       "4     1.429037 -0.582315  1.279502  0.403413 -0.696116 -0.720261 -0.830997   \n",
       "...        ...       ...       ...       ...       ...       ...       ...   \n",
       "2494 -0.349406 -0.582315  0.423323  0.790445 -0.696116 -1.422395 -0.882614   \n",
       "2495 -0.574842 -0.582315 -0.785400  0.241074  0.262421 -0.552759  0.975603   \n",
       "2496 -1.025715 -0.582315  0.876594  0.255050  0.514668 -2.250729  1.749860   \n",
       "2497 -0.073873 -0.582315  0.322596 -1.957485  0.161523 -0.275118  0.511049   \n",
       "2498  1.454086 -0.582315  0.121142  1.752651  0.413769 -0.213165 -0.366442   \n",
       "\n",
       "            7         8         9   ...   57   58   59   60   61   62   63  \\\n",
       "0    -0.085379  0.204352 -0.606383  ...  0.0  0.0  0.0  0.0  0.0  0.0  0.0   \n",
       "1    -0.129149  0.613876 -0.181249  ...  0.0  0.0  0.0  0.0  0.0  0.0  1.0   \n",
       "2     0.111587 -0.614695 -0.473528  ...  0.0  0.0  0.0  0.0  0.0  0.0  1.0   \n",
       "3    -0.312984  0.613876  0.536165  ...  0.0  0.0  0.0  0.0  0.0  0.0  1.0   \n",
       "4    -0.120395  0.613876  0.071175  ...  0.0  0.0  0.0  0.0  0.0  1.0  0.0   \n",
       "...        ...       ...       ...  ...  ...  ...  ...  ...  ...  ...  ...   \n",
       "2494  1.731084 -0.205172  1.545859  ...  0.0  0.0  0.0  0.0  0.0  0.0  0.0   \n",
       "2495 -1.415993 -1.433743 -0.008538  ...  0.0  0.0  0.0  0.0  0.0  0.0  1.0   \n",
       "2496  0.168488  1.432923  1.067583  ...  1.0  0.0  0.0  0.0  0.0  0.0  1.0   \n",
       "2497 -0.514327 -0.205172  0.111031  ...  0.0  0.0  0.0  0.0  0.0  0.0  1.0   \n",
       "2498  0.444240  0.204352 -1.004946  ...  1.0  0.0  0.0  0.0  0.0  0.0  1.0   \n",
       "\n",
       "       64   65   66  \n",
       "0     1.0  0.0  0.0  \n",
       "1     0.0  0.0  0.0  \n",
       "2     0.0  0.0  1.0  \n",
       "3     0.0  0.0  0.0  \n",
       "4     0.0  0.0  0.0  \n",
       "...   ...  ...  ...  \n",
       "2494  1.0  0.0  0.0  \n",
       "2495  0.0  0.0  0.0  \n",
       "2496  0.0  0.0  0.0  \n",
       "2497  0.0  0.0  0.0  \n",
       "2498  0.0  0.0  0.0  \n",
       "\n",
       "[2499 rows x 67 columns]"
      ]
     },
     "execution_count": 11,
     "metadata": {},
     "output_type": "execute_result"
    }
   ],
   "source": [
    "pd.DataFrame(ct.fit_transform(X_train))"
   ]
  },
  {
   "cell_type": "markdown",
   "metadata": {},
   "source": [
    "Baseline model/ Dummy model"
   ]
  },
  {
   "cell_type": "code",
   "execution_count": 12,
   "metadata": {},
   "outputs": [
    {
     "data": {
      "text/plain": [
       "'cv = 0.8527414829659319 , train = 0.8527410964385754'"
      ]
     },
     "execution_count": 12,
     "metadata": {},
     "output_type": "execute_result"
    }
   ],
   "source": [
    "imb_pipe_dummy= ImPipeline(steps=[('ct',ct),\n",
    "                            ('sm', SMOTE(random_state=3, sampling_strategy='minority')),\n",
    "                            ('dummy', DummyClassifier())])\n",
    "imb_pipe_dummy.fit(X_train, y_train)\n",
    "f'cv = {cross_val_score(imb_pipe_dummy, X_train, y_train).mean()} , train = {imb_pipe_dummy.score(X_train, y_train)}'"
   ]
  },
  {
   "cell_type": "markdown",
   "metadata": {},
   "source": [
    "."
   ]
  },
  {
   "cell_type": "markdown",
   "metadata": {},
   "source": [
    "LogisticRegression model"
   ]
  },
  {
   "cell_type": "code",
   "execution_count": 13,
   "metadata": {},
   "outputs": [],
   "source": [
    "imb_pipe_logreg = ImPipeline(steps=[('ct',ct),\n",
    "                            ('sm', SMOTE(random_state=3, sampling_strategy='minority')),\n",
    "                            ('logreg',LogisticRegression(random_state=3, max_iter=5000))])"
   ]
  },
  {
   "cell_type": "code",
   "execution_count": 14,
   "metadata": {},
   "outputs": [
    {
     "data": {
      "text/plain": [
       "(0.7655102204408818, 0.7847138855542217)"
      ]
     },
     "execution_count": 14,
     "metadata": {},
     "output_type": "execute_result"
    }
   ],
   "source": [
    "imb_pipe_logreg.fit(X_train, y_train)\n",
    "cross_val_score(imb_pipe_logreg, X_train, y_train).mean(), imb_pipe_logreg.score(X_train, y_train)"
   ]
  },
  {
   "cell_type": "markdown",
   "metadata": {},
   "source": [
    "."
   ]
  },
  {
   "cell_type": "markdown",
   "metadata": {},
   "source": [
    "KNneighborsClassifier model"
   ]
  },
  {
   "cell_type": "code",
   "execution_count": 15,
   "metadata": {},
   "outputs": [],
   "source": [
    "imb_pipe_knn = ImPipeline(steps=[('ct',ct),\n",
    "                            ('sm', SMOTE(random_state=3, sampling_strategy='minority')),\n",
    "                            ('knn',KNeighborsClassifier())])"
   ]
  },
  {
   "cell_type": "code",
   "execution_count": 16,
   "metadata": {},
   "outputs": [
    {
     "data": {
      "text/plain": [
       "(0.7278917835671342, 0.8443377350940376)"
      ]
     },
     "execution_count": 16,
     "metadata": {},
     "output_type": "execute_result"
    }
   ],
   "source": [
    "imb_pipe_knn.fit(X_train, y_train)\n",
    "cross_val_score(imb_pipe_knn, X_train, y_train).mean(), imb_pipe_knn.score(X_train, y_train)"
   ]
  },
  {
   "cell_type": "markdown",
   "metadata": {},
   "source": [
    "."
   ]
  },
  {
   "cell_type": "markdown",
   "metadata": {},
   "source": [
    "DecisionTreeClassifier model"
   ]
  },
  {
   "cell_type": "code",
   "execution_count": 17,
   "metadata": {},
   "outputs": [],
   "source": [
    "imb_pipe_dtc = ImPipeline(steps=[('ct',ct),\n",
    "                            ('sm', SMOTE(random_state=3, sampling_strategy='minority')),\n",
    "                            ('dtc',DecisionTreeClassifier(random_state=3))])"
   ]
  },
  {
   "cell_type": "code",
   "execution_count": 18,
   "metadata": {},
   "outputs": [
    {
     "data": {
      "text/plain": [
       "(0.8967567134268537, 1.0)"
      ]
     },
     "execution_count": 18,
     "metadata": {},
     "output_type": "execute_result"
    }
   ],
   "source": [
    "imb_pipe_dtc.fit(X_train, y_train)\n",
    "cross_val_score(imb_pipe_dtc, X_train, y_train).mean(), imb_pipe_dtc.score(X_train, y_train)"
   ]
  },
  {
   "cell_type": "markdown",
   "metadata": {},
   "source": [
    "."
   ]
  },
  {
   "cell_type": "markdown",
   "metadata": {},
   "source": [
    "VotingClassifier model"
   ]
  },
  {
   "cell_type": "code",
   "execution_count": 19,
   "metadata": {},
   "outputs": [
    {
     "data": {
      "text/plain": [
       "(0.8591422845691383, 0.9455782312925171)"
      ]
     },
     "execution_count": 19,
     "metadata": {},
     "output_type": "execute_result"
    }
   ],
   "source": [
    "avg = VotingClassifier(estimators=[\n",
    "    ('logreg',LogisticRegression(random_state=3, max_iter=5000)),\n",
    "    ('knn',KNeighborsClassifier()),\n",
    "    ('dtc', DecisionTreeClassifier(random_state=3))])\n",
    "\n",
    "\n",
    "imb_pipe_vote = ImPipeline(steps=[('ct',ct),\n",
    "                            ('sm', SMOTE(random_state=3, sampling_strategy='minority')),\n",
    "                            ('vote', avg)])\n",
    "imb_pipe_vote.fit(X_train, y_train)\n",
    "cross_val_score(imb_pipe_vote, X_train, y_train).mean(), imb_pipe_vote.score(X_train, y_train)"
   ]
  },
  {
   "cell_type": "code",
   "execution_count": 20,
   "metadata": {},
   "outputs": [
    {
     "data": {
      "text/plain": [
       "(0.9107607214428859, 1.0)"
      ]
     },
     "execution_count": 20,
     "metadata": {},
     "output_type": "execute_result"
    }
   ],
   "source": [
    "avg = VotingClassifier(estimators=[\n",
    "    ('logreg',LogisticRegression(random_state=3, max_iter=5000)),\n",
    "    ('knn',KNeighborsClassifier()),\n",
    "    ('dtc', DecisionTreeClassifier(random_state=3))\n",
    "], weights=[.25,.25,.5])\n",
    "\n",
    "\n",
    "imb_pipe_vote1 = ImPipeline(steps=[('ct',ct),\n",
    "                            ('sm', SMOTE(random_state=3, sampling_strategy='minority')),\n",
    "                            ('vote', avg)])\n",
    "imb_pipe_vote1.fit(X_train, y_train)\n",
    "cross_val_score(imb_pipe_vote1, X_train, y_train).mean(), imb_pipe_vote1.score(X_train, y_train)"
   ]
  },
  {
   "cell_type": "code",
   "execution_count": 21,
   "metadata": {},
   "outputs": [
    {
     "data": {
      "text/plain": [
       "(0.8967567134268537, 1.0)"
      ]
     },
     "execution_count": 21,
     "metadata": {},
     "output_type": "execute_result"
    }
   ],
   "source": [
    "avg = VotingClassifier(estimators=[\n",
    "    ('logreg',LogisticRegression(random_state=3, max_iter=5000)),\n",
    "    ('knn',KNeighborsClassifier()),\n",
    "    ('dtc', DecisionTreeClassifier(random_state=3))\n",
    "], weights=[.20,.20,.6])\n",
    "\n",
    "\n",
    "imb_pipe_vote2 = ImPipeline(steps=[('ct',ct),\n",
    "                            ('sm', SMOTE(random_state=3, sampling_strategy='minority')),\n",
    "                            ('vote', avg)])\n",
    "imb_pipe_vote2.fit(X_train, y_train)\n",
    "cross_val_score(imb_pipe_vote2, X_train, y_train).mean(), imb_pipe_vote2.score(X_train, y_train)"
   ]
  },
  {
   "cell_type": "code",
   "execution_count": 22,
   "metadata": {},
   "outputs": [
    {
     "data": {
      "text/plain": [
       "(0.8527446893787575, 0.9103641456582633)"
      ]
     },
     "execution_count": 22,
     "metadata": {},
     "output_type": "execute_result"
    }
   ],
   "source": [
    "avg = VotingClassifier(estimators=[\n",
    "    ('logreg',LogisticRegression(random_state=3, max_iter=5000)),\n",
    "    ('knn',KNeighborsClassifier()),\n",
    "    ('dtc', DecisionTreeClassifier(random_state=3))\n",
    "], weights=[.5,.25,.25])\n",
    "\n",
    "\n",
    "imb_pipe_vote3 = ImPipeline(steps=[('ct',ct),\n",
    "                            ('sm', SMOTE(random_state=3, sampling_strategy='minority')),\n",
    "                            ('vote', avg)])\n",
    "imb_pipe_vote3.fit(X_train, y_train)\n",
    "cross_val_score(imb_pipe_vote3, X_train, y_train).mean(), imb_pipe_vote3.score(X_train, y_train)"
   ]
  },
  {
   "cell_type": "code",
   "execution_count": 23,
   "metadata": {},
   "outputs": [
    {
     "data": {
      "text/plain": [
       "(0.8583414829659318, 0.9455782312925171)"
      ]
     },
     "execution_count": 23,
     "metadata": {},
     "output_type": "execute_result"
    }
   ],
   "source": [
    "avg = VotingClassifier(estimators=[\n",
    "    ('logreg',LogisticRegression(random_state=3, max_iter=5000)),\n",
    "    ('knn',KNeighborsClassifier()),\n",
    "    ('dtc', DecisionTreeClassifier(random_state=3))\n",
    "], weights=[.25,.5,.25])\n",
    "\n",
    "\n",
    "imb_pipe_vote4 = ImPipeline(steps=[('ct',ct),\n",
    "                            ('sm', SMOTE(random_state=3, sampling_strategy='minority')),\n",
    "                            ('vote', avg)])\n",
    "imb_pipe_vote4.fit(X_train, y_train)\n",
    "cross_val_score(imb_pipe_vote4, X_train, y_train).mean(), imb_pipe_vote4.score(X_train, y_train)"
   ]
  },
  {
   "cell_type": "code",
   "execution_count": 24,
   "metadata": {},
   "outputs": [
    {
     "data": {
      "text/plain": [
       "(0.9231655310621243, 1.0)"
      ]
     },
     "execution_count": 24,
     "metadata": {},
     "output_type": "execute_result"
    }
   ],
   "source": [
    "avg = VotingClassifier(estimators=[\n",
    "    ('logreg',LogisticRegression(random_state=3, max_iter=5000)),\n",
    "    ('knn',KNeighborsClassifier()),\n",
    "    ('rfc', RandomForestClassifier(random_state=3))\n",
    "], weights=[.25,.25,.5])\n",
    "\n",
    "\n",
    "imb_pipe_vote5 = ImPipeline(steps=[('ct',ct),\n",
    "                            ('sm', SMOTE(random_state=3, sampling_strategy='minority')),\n",
    "                            ('vote', avg)])\n",
    "imb_pipe_vote5.fit(X_train, y_train)\n",
    "cross_val_score(imb_pipe_vote5, X_train, y_train).mean(), imb_pipe_vote5.score(X_train, y_train)"
   ]
  },
  {
   "cell_type": "markdown",
   "metadata": {},
   "source": [
    "."
   ]
  },
  {
   "cell_type": "markdown",
   "metadata": {},
   "source": [
    "RandomForestClassifier model"
   ]
  },
  {
   "cell_type": "code",
   "execution_count": 25,
   "metadata": {},
   "outputs": [],
   "source": [
    "imb_pipe_rfc = ImPipeline(steps=[('ct',ct),\n",
    "                            ('sm', SMOTE(random_state=3, sampling_strategy='minority')),\n",
    "                            ('rfc',RandomForestClassifier(random_state=3))])"
   ]
  },
  {
   "cell_type": "code",
   "execution_count": 26,
   "metadata": {
    "scrolled": true
   },
   "outputs": [
    {
     "data": {
      "text/plain": [
       "(0.9263679358717436, 1.0)"
      ]
     },
     "execution_count": 26,
     "metadata": {},
     "output_type": "execute_result"
    }
   ],
   "source": [
    "imb_pipe_rfc.fit(X_train, y_train)\n",
    "cross_val_score(imb_pipe_rfc, X_train, y_train).mean(), imb_pipe_rfc.score(X_train, y_train)"
   ]
  },
  {
   "cell_type": "code",
   "execution_count": 27,
   "metadata": {},
   "outputs": [],
   "source": [
    "parameters = {'rfc__criterion': ['gini', 'entropy'],\n",
    "          'rfc__max_depth': [2, 5, 10, 100]}\n",
    "\n",
    "\n",
    "gs_rfc = GridSearchCV(estimator=imb_pipe_rfc,\n",
    "                 param_grid=parameters,\n",
    "                 cv=5)"
   ]
  },
  {
   "cell_type": "code",
   "execution_count": 28,
   "metadata": {},
   "outputs": [
    {
     "data": {
      "text/plain": [
       "GridSearchCV(cv=5,\n",
       "             estimator=Pipeline(steps=[('ct',\n",
       "                                        ColumnTransformer(remainder='passthrough',\n",
       "                                                          transformers=[('subpipe_num',\n",
       "                                                                         Pipeline(steps=[('ss',\n",
       "                                                                                          StandardScaler())]),\n",
       "                                                                         Index(['account length', 'number vmail messages', 'total day calls',\n",
       "       'total day charge', 'total eve calls', 'total eve charge',\n",
       "       'total night calls', 'total night charge', 'total intl calls',\n",
       "       'total intl charge', 'customer service calls'],\n",
       "      dtype='object')),\n",
       "                                                                        ('subpipe_cat',\n",
       "                                                                         Pipeline(steps=[('ohe',\n",
       "                                                                                          OneHotEncoder(handle_unknown='ignore',\n",
       "                                                                                                        sparse=False))]),\n",
       "                                                                         [0,\n",
       "                                                                          2])])),\n",
       "                                       ('sm',\n",
       "                                        SMOTE(random_state=3,\n",
       "                                              sampling_strategy='minority')),\n",
       "                                       ('rfc',\n",
       "                                        RandomForestClassifier(random_state=3))]),\n",
       "             param_grid={'rfc__criterion': ['gini', 'entropy'],\n",
       "                         'rfc__max_depth': [2, 5, 10, 100]})"
      ]
     },
     "execution_count": 28,
     "metadata": {},
     "output_type": "execute_result"
    }
   ],
   "source": [
    "gs_rfc.fit(X_train, y_train)"
   ]
  },
  {
   "cell_type": "code",
   "execution_count": 29,
   "metadata": {},
   "outputs": [
    {
     "data": {
      "text/plain": [
       "0.934767134268537"
      ]
     },
     "execution_count": 29,
     "metadata": {},
     "output_type": "execute_result"
    }
   ],
   "source": [
    "gs_rfc.best_score_"
   ]
  },
  {
   "cell_type": "code",
   "execution_count": 30,
   "metadata": {},
   "outputs": [
    {
     "data": {
      "text/plain": [
       "{'rfc__criterion': 'entropy', 'rfc__max_depth': 100}"
      ]
     },
     "execution_count": 30,
     "metadata": {},
     "output_type": "execute_result"
    }
   ],
   "source": [
    "gs_rfc.best_params_"
   ]
  },
  {
   "cell_type": "markdown",
   "metadata": {},
   "source": [
    "."
   ]
  },
  {
   "cell_type": "markdown",
   "metadata": {},
   "source": [
    "GradientBoostingClassifier model"
   ]
  },
  {
   "cell_type": "code",
   "execution_count": 31,
   "metadata": {},
   "outputs": [],
   "source": [
    "imb_pipe_gbc = ImPipeline(steps=[('ct',ct),\n",
    "                            ('sm', SMOTE(random_state=3, sampling_strategy='minority')),\n",
    "                            ('gbc', GradientBoostingClassifier(random_state=3))])"
   ]
  },
  {
   "cell_type": "code",
   "execution_count": 32,
   "metadata": {},
   "outputs": [
    {
     "data": {
      "text/plain": [
       "(0.9291695390781562, 0.952781112444978)"
      ]
     },
     "execution_count": 32,
     "metadata": {},
     "output_type": "execute_result"
    }
   ],
   "source": [
    "imb_pipe_gbc.fit(X_train, y_train)\n",
    "cross_val_score(imb_pipe_gbc, X_train, y_train).mean(), imb_pipe_gbc.score(X_train, y_train)"
   ]
  },
  {
   "cell_type": "code",
   "execution_count": 33,
   "metadata": {},
   "outputs": [],
   "source": [
    "parameters = {'gbc__loss': ['deviance', 'exponential'],\n",
    "          'gbc__max_depth': [2, 5, 10]}\n",
    "\n",
    "\n",
    "gs = GridSearchCV(estimator=imb_pipe_gbc,\n",
    "                 param_grid=parameters,\n",
    "                 cv=5)"
   ]
  },
  {
   "cell_type": "code",
   "execution_count": 34,
   "metadata": {},
   "outputs": [
    {
     "data": {
      "text/plain": [
       "GridSearchCV(cv=5,\n",
       "             estimator=Pipeline(steps=[('ct',\n",
       "                                        ColumnTransformer(remainder='passthrough',\n",
       "                                                          transformers=[('subpipe_num',\n",
       "                                                                         Pipeline(steps=[('ss',\n",
       "                                                                                          StandardScaler())]),\n",
       "                                                                         Index(['account length', 'number vmail messages', 'total day calls',\n",
       "       'total day charge', 'total eve calls', 'total eve charge',\n",
       "       'total night calls', 'total night charge', 'total intl calls',\n",
       "       'total intl charge', 'customer service calls'],\n",
       "      dtype='object')),\n",
       "                                                                        ('subpipe_cat',\n",
       "                                                                         Pipeline(steps=[('ohe',\n",
       "                                                                                          OneHotEncoder(handle_unknown='ignore',\n",
       "                                                                                                        sparse=False))]),\n",
       "                                                                         [0,\n",
       "                                                                          2])])),\n",
       "                                       ('sm',\n",
       "                                        SMOTE(random_state=3,\n",
       "                                              sampling_strategy='minority')),\n",
       "                                       ('gbc',\n",
       "                                        GradientBoostingClassifier(random_state=3))]),\n",
       "             param_grid={'gbc__loss': ['deviance', 'exponential'],\n",
       "                         'gbc__max_depth': [2, 5, 10]})"
      ]
     },
     "execution_count": 34,
     "metadata": {},
     "output_type": "execute_result"
    }
   ],
   "source": [
    "gs.fit(X_train,y_train)"
   ]
  },
  {
   "cell_type": "code",
   "execution_count": 35,
   "metadata": {},
   "outputs": [
    {
     "data": {
      "text/plain": [
       "{'gbc__loss': 'exponential', 'gbc__max_depth': 5}"
      ]
     },
     "execution_count": 35,
     "metadata": {},
     "output_type": "execute_result"
    }
   ],
   "source": [
    "gs.best_params_"
   ]
  },
  {
   "cell_type": "code",
   "execution_count": 36,
   "metadata": {},
   "outputs": [
    {
     "data": {
      "text/plain": [
       "0.9451735470941884"
      ]
     },
     "execution_count": 36,
     "metadata": {},
     "output_type": "execute_result"
    }
   ],
   "source": [
    "gs.best_score_"
   ]
  },
  {
   "cell_type": "code",
   "execution_count": 37,
   "metadata": {
    "scrolled": true
   },
   "outputs": [
    {
     "data": {
      "text/plain": [
       "Pipeline(steps=[('ct',\n",
       "                 ColumnTransformer(remainder='passthrough',\n",
       "                                   transformers=[('subpipe_num',\n",
       "                                                  Pipeline(steps=[('ss',\n",
       "                                                                   StandardScaler())]),\n",
       "                                                  Index(['account length', 'number vmail messages', 'total day calls',\n",
       "       'total day charge', 'total eve calls', 'total eve charge',\n",
       "       'total night calls', 'total night charge', 'total intl calls',\n",
       "       'total intl charge', 'customer service calls'],\n",
       "      dtype='object')),\n",
       "                                                 ('subpipe_cat',\n",
       "                                                  Pipeline(steps=[('ohe',\n",
       "                                                                   OneHotEncoder(handle_unknown='ignore',\n",
       "                                                                                 sparse=False))]),\n",
       "                                                  [0, 2])])),\n",
       "                ('sm', SMOTE(random_state=3, sampling_strategy='minority')),\n",
       "                ('gbc',\n",
       "                 GradientBoostingClassifier(loss='exponential', max_depth=5,\n",
       "                                            random_state=3))])"
      ]
     },
     "execution_count": 37,
     "metadata": {},
     "output_type": "execute_result"
    }
   ],
   "source": [
    "gs.best_estimator_"
   ]
  },
  {
   "cell_type": "code",
   "execution_count": 38,
   "metadata": {},
   "outputs": [],
   "source": [
    "imb_pipe_gbc = ImPipeline(steps=[('ct',ct),\n",
    "                            ('sm', SMOTE(random_state=3, sampling_strategy='minority')),\n",
    "                            ('gbc', GradientBoostingClassifier(loss='exponential', max_depth=5, random_state=3))])"
   ]
  },
  {
   "cell_type": "code",
   "execution_count": 39,
   "metadata": {},
   "outputs": [
    {
     "data": {
      "text/plain": [
       "(0.9451735470941884, 0.9787915166066427)"
      ]
     },
     "execution_count": 39,
     "metadata": {},
     "output_type": "execute_result"
    }
   ],
   "source": [
    "imb_pipe_gbc.fit(X_train, y_train)\n",
    "cross_val_score(imb_pipe_gbc, X_train, y_train).mean(), imb_pipe_gbc.score(X_train, y_train)"
   ]
  },
  {
   "cell_type": "code",
   "execution_count": 40,
   "metadata": {},
   "outputs": [
    {
     "data": {
      "text/plain": [
       "True"
      ]
     },
     "execution_count": 40,
     "metadata": {},
     "output_type": "execute_result"
    }
   ],
   "source": [
    "len(imb_pipe_gbc[:-1].get_feature_names_out()) == len(imb_pipe_gbc.named_steps['gbc'].feature_importances_)"
   ]
  },
  {
   "cell_type": "code",
   "execution_count": 41,
   "metadata": {},
   "outputs": [],
   "source": [
    "gbc_feature_names = imb_pipe_gbc[:-1].get_feature_names_out()"
   ]
  },
  {
   "cell_type": "code",
   "execution_count": 42,
   "metadata": {},
   "outputs": [],
   "source": [
    "gbc_feature_importance = imb_pipe_gbc.named_steps['gbc'].feature_importances_"
   ]
  },
  {
   "cell_type": "code",
   "execution_count": 43,
   "metadata": {},
   "outputs": [],
   "source": [
    "best_feature_df = pd.DataFrame({'feature_names' : gbc_feature_names,  'feature_importance' : gbc_feature_importance})"
   ]
  },
  {
   "cell_type": "code",
   "execution_count": 44,
   "metadata": {},
   "outputs": [
    {
     "data": {
      "text/html": [
       "<div>\n",
       "<style scoped>\n",
       "    .dataframe tbody tr th:only-of-type {\n",
       "        vertical-align: middle;\n",
       "    }\n",
       "\n",
       "    .dataframe tbody tr th {\n",
       "        vertical-align: top;\n",
       "    }\n",
       "\n",
       "    .dataframe thead th {\n",
       "        text-align: right;\n",
       "    }\n",
       "</style>\n",
       "<table border=\"1\" class=\"dataframe\">\n",
       "  <thead>\n",
       "    <tr style=\"text-align: right;\">\n",
       "      <th></th>\n",
       "      <th>feature_names</th>\n",
       "      <th>feature_importance</th>\n",
       "    </tr>\n",
       "  </thead>\n",
       "  <tbody>\n",
       "    <tr>\n",
       "      <th>10</th>\n",
       "      <td>subpipe_num__customer service calls</td>\n",
       "      <td>2.259679e-01</td>\n",
       "    </tr>\n",
       "    <tr>\n",
       "      <th>3</th>\n",
       "      <td>subpipe_num__total day charge</td>\n",
       "      <td>2.248785e-01</td>\n",
       "    </tr>\n",
       "    <tr>\n",
       "      <th>65</th>\n",
       "      <td>remainder__international plan</td>\n",
       "      <td>1.608697e-01</td>\n",
       "    </tr>\n",
       "    <tr>\n",
       "      <th>5</th>\n",
       "      <td>subpipe_num__total eve charge</td>\n",
       "      <td>8.228862e-02</td>\n",
       "    </tr>\n",
       "    <tr>\n",
       "      <th>8</th>\n",
       "      <td>subpipe_num__total intl calls</td>\n",
       "      <td>5.066164e-02</td>\n",
       "    </tr>\n",
       "    <tr>\n",
       "      <th>...</th>\n",
       "      <td>...</td>\n",
       "      <td>...</td>\n",
       "    </tr>\n",
       "    <tr>\n",
       "      <th>47</th>\n",
       "      <td>subpipe_cat__state_OK</td>\n",
       "      <td>5.206200e-06</td>\n",
       "    </tr>\n",
       "    <tr>\n",
       "      <th>44</th>\n",
       "      <td>subpipe_cat__state_NV</td>\n",
       "      <td>3.420319e-17</td>\n",
       "    </tr>\n",
       "    <tr>\n",
       "      <th>49</th>\n",
       "      <td>subpipe_cat__state_PA</td>\n",
       "      <td>0.000000e+00</td>\n",
       "    </tr>\n",
       "    <tr>\n",
       "      <th>27</th>\n",
       "      <td>subpipe_cat__state_KS</td>\n",
       "      <td>0.000000e+00</td>\n",
       "    </tr>\n",
       "    <tr>\n",
       "      <th>11</th>\n",
       "      <td>subpipe_cat__state_AK</td>\n",
       "      <td>0.000000e+00</td>\n",
       "    </tr>\n",
       "  </tbody>\n",
       "</table>\n",
       "<p>67 rows × 2 columns</p>\n",
       "</div>"
      ],
      "text/plain": [
       "                          feature_names  feature_importance\n",
       "10  subpipe_num__customer service calls        2.259679e-01\n",
       "3         subpipe_num__total day charge        2.248785e-01\n",
       "65        remainder__international plan        1.608697e-01\n",
       "5         subpipe_num__total eve charge        8.228862e-02\n",
       "8         subpipe_num__total intl calls        5.066164e-02\n",
       "..                                  ...                 ...\n",
       "47                subpipe_cat__state_OK        5.206200e-06\n",
       "44                subpipe_cat__state_NV        3.420319e-17\n",
       "49                subpipe_cat__state_PA        0.000000e+00\n",
       "27                subpipe_cat__state_KS        0.000000e+00\n",
       "11                subpipe_cat__state_AK        0.000000e+00\n",
       "\n",
       "[67 rows x 2 columns]"
      ]
     },
     "execution_count": 44,
     "metadata": {},
     "output_type": "execute_result"
    }
   ],
   "source": [
    "best_feature_df.sort_values('feature_importance', ascending=False)"
   ]
  },
  {
   "cell_type": "code",
   "execution_count": 45,
   "metadata": {},
   "outputs": [
    {
     "data": {
      "text/plain": [
       "(0.9399711422845691, 0.9683873549419768)"
      ]
     },
     "execution_count": 45,
     "metadata": {},
     "output_type": "execute_result"
    }
   ],
   "source": [
    "imb_pipe_gbc2 = ImPipeline(steps=[('ct',ct),\n",
    "                            ('sm', SMOTE(random_state=3, sampling_strategy='minority')),\n",
    "                            ('gbc', GradientBoostingClassifier(loss='exponential', max_depth=4, random_state=3))])\n",
    "imb_pipe_gbc2.fit(X_train, y_train)\n",
    "cross_val_score(imb_pipe_gbc2, X_train, y_train).mean(), imb_pipe_gbc2.score(X_train, y_train)"
   ]
  },
  {
   "cell_type": "code",
   "execution_count": 46,
   "metadata": {},
   "outputs": [
    {
     "name": "stderr",
     "output_type": "stream",
     "text": [
      "C:\\Users\\weesn\\anaconda3\\envs\\learn-env\\lib\\site-packages\\sklearn\\utils\\deprecation.py:87: FutureWarning: Function plot_confusion_matrix is deprecated; Function `plot_confusion_matrix` is deprecated in 1.0 and will be removed in 1.2. Use one of the class methods: ConfusionMatrixDisplay.from_predictions or ConfusionMatrixDisplay.from_estimator.\n",
      "  warnings.warn(msg, category=FutureWarning)\n"
     ]
    },
    {
     "data": {
      "text/plain": [
       "<sklearn.metrics._plot.confusion_matrix.ConfusionMatrixDisplay at 0x1ce426b83d0>"
      ]
     },
     "execution_count": 46,
     "metadata": {},
     "output_type": "execute_result"
    },
    {
     "data": {
      "image/png": "[encoded data removed]",
      "text/plain": [
       "<Figure size 432x288 with 2 Axes>"
      ]
     },
     "metadata": {
      "needs_background": "light"
     },
     "output_type": "display_data"
    }
   ],
   "source": [
    "plot_confusion_matrix(gs.best_estimator_, X_test, y_test)"
   ]
  },
  {
   "cell_type": "code",
   "execution_count": 47,
   "metadata": {},
   "outputs": [],
   "source": [
    "acc = accuracy_score(y_test, gs.best_estimator_.predict(X_test))\n",
    "rec = recall_score(y_test, gs.best_estimator_.predict(X_test))\n",
    "pre = precision_score(y_test, gs.best_estimator_.predict(X_test))\n",
    "f1 = f1_score(y_test, gs.best_estimator_.predict(X_test))"
   ]
  },
  {
   "cell_type": "code",
   "execution_count": 48,
   "metadata": {},
   "outputs": [
    {
     "name": "stdout",
     "output_type": "stream",
     "text": [
      "f1 score is 0.8070175438596492\n"
     ]
    }
   ],
   "source": [
    "print(f'f1 score is {f1}')"
   ]
  },
  {
   "cell_type": "code",
   "execution_count": null,
   "metadata": {},
   "outputs": [],
   "source": []
  },
  {
   "cell_type": "code",
   "execution_count": null,
   "metadata": {},
   "outputs": [],
   "source": []
  },
  {
   "cell_type": "code",
   "execution_count": 49,
   "metadata": {},
   "outputs": [
    {
     "name": "stdout",
     "output_type": "stream",
     "text": [
      "\n",
      "Our final model's accuracy on the test set is 0.95. \n",
      "\n",
      "Our final model's recall on the test set is 0.8 \n",
      "\n",
      "Our final model's precision on the test set is 0.81 \n",
      "\n",
      "Our final model's f1-score on the test is 0.81.\n",
      "\n"
     ]
    }
   ],
   "source": [
    "y_hat = gs.best_estimator_.predict(X_test)  #print was acquired from davids lecture\n",
    "print(f\"\"\"\n",
    "Our final model's accuracy on the test set is {round(accuracy_score(y_test, y_hat), 2)}. \\n\n",
    "Our final model's recall on the test set is {round(recall_score(y_test, y_hat), 2)} \\n\n",
    "Our final model's precision on the test set is {round(precision_score(y_test, y_hat), 2)} \\n\n",
    "Our final model's f1-score on the test is {round(f1_score(y_test, y_hat), 2)}.\n",
    "\"\"\")"
   ]
  },
  {
   "cell_type": "code",
   "execution_count": null,
   "metadata": {},
   "outputs": [],
   "source": []
  }
 ],
 "metadata": {
  "kernelspec": {
   "display_name": "Python (learn-env)",
   "language": "python",
   "name": "learn-env"
  },
  "language_info": {
   "codemirror_mode": {
    "name": "ipython",
    "version": 3
   },
   "file_extension": ".py",
   "mimetype": "text/x-python",
   "name": "python",
   "nbconvert_exporter": "python",
   "pygments_lexer": "ipython3",
   "version": "3.8.5"
  }
 },
 "nbformat": 4,
 "nbformat_minor": 4
}
