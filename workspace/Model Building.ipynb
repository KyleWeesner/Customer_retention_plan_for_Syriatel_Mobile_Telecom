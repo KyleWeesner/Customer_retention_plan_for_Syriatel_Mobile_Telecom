{
 "cells": [
  {
   "cell_type": "markdown",
   "metadata": {},
   "source": [
    "# Model Building"
   ]
  },
  {
   "cell_type": "markdown",
   "metadata": {},
   "source": [
    "import libraries"
   ]
  },
  {
   "cell_type": "code",
   "execution_count": 282,
   "metadata": {},
   "outputs": [],
   "source": [
    "import pandas as pd\n",
    "import numpy as np\n",
    "from matplotlib import pyplot as plt\n",
    "import seaborn as sns\n",
    "\n",
    "from sklearn.model_selection import train_test_split, GridSearchCV, cross_val_score\n",
    "from sklearn.preprocessing import StandardScaler, OneHotEncoder\n",
    "from sklearn.compose import ColumnTransformer\n",
    "from sklearn.linear_model import LogisticRegression\n",
    "from sklearn.ensemble import RandomForestClassifier, VotingClassifier, GradientBoostingClassifier\n",
    "from sklearn.metrics import plot_confusion_matrix, recall_score, accuracy_score, precision_score, f1_score\n",
    "from sklearn.dummy import DummyClassifier\n",
    "from sklearn.neighbors import KNeighborsClassifier\n",
    "from sklearn.tree import DecisionTreeClassifier\n",
    "\n",
    "from imblearn.over_sampling import SMOTE\n",
    "from imblearn.pipeline import Pipeline as ImPipeline"
   ]
  },
  {
   "cell_type": "markdown",
   "metadata": {},
   "source": [
    "loaded in cleaned dataframe from Exploratory Data Analysis in Jupyter Notebook folder in this repository"
   ]
  },
  {
   "cell_type": "code",
   "execution_count": 283,
   "metadata": {},
   "outputs": [],
   "source": [
    "df = pd.read_csv('../data/clean_df.csv', index_col=0)\n",
    "# loaded up cleaned data from the data cleaning notebook and had two index colums so set to only have 1"
   ]
  },
  {
   "cell_type": "code",
   "execution_count": 284,
   "metadata": {},
   "outputs": [
    {
     "name": "stdout",
     "output_type": "stream",
     "text": [
      "<class 'pandas.core.frame.DataFrame'>\n",
      "Int64Index: 3333 entries, 0 to 3332\n",
      "Data columns (total 16 columns):\n",
      " #   Column                  Non-Null Count  Dtype  \n",
      "---  ------                  --------------  -----  \n",
      " 0   state                   3333 non-null   object \n",
      " 1   account length          3333 non-null   int64  \n",
      " 2   area code               3333 non-null   int64  \n",
      " 3   international plan      3333 non-null   int64  \n",
      " 4   voice mail plan         3333 non-null   int64  \n",
      " 5   number vmail messages   3333 non-null   int64  \n",
      " 6   total day calls         3333 non-null   int64  \n",
      " 7   total day charge        3333 non-null   float64\n",
      " 8   total eve calls         3333 non-null   int64  \n",
      " 9   total eve charge        3333 non-null   float64\n",
      " 10  total night calls       3333 non-null   int64  \n",
      " 11  total night charge      3333 non-null   float64\n",
      " 12  total intl calls        3333 non-null   int64  \n",
      " 13  total intl charge       3333 non-null   float64\n",
      " 14  customer service calls  3333 non-null   int64  \n",
      " 15  churn                   3333 non-null   int64  \n",
      "dtypes: float64(4), int64(11), object(1)\n",
      "memory usage: 442.7+ KB\n"
     ]
    }
   ],
   "source": [
    "df.info() #self check that the dataframe loaded correctly with the changes done in the Data cleaning notebook"
   ]
  },
  {
   "cell_type": "code",
   "execution_count": 285,
   "metadata": {},
   "outputs": [],
   "source": [
    "X = df.drop(columns='churn') #removing the target\n",
    "y = df.churn #isolating the target\n",
    "\n",
    "X_train, X_test, y_train, y_test = train_test_split(X, y, random_state=3) #performing train test split"
   ]
  },
  {
   "cell_type": "markdown",
   "metadata": {},
   "source": [
    "."
   ]
  },
  {
   "cell_type": "markdown",
   "metadata": {},
   "source": [
    "## Creating components for that will be needed for the `ImPipeline()`"
   ]
  },
  {
   "cell_type": "markdown",
   "metadata": {},
   "source": [
    "### Contructing column converter"
   ]
  },
  {
   "cell_type": "code",
   "execution_count": 286,
   "metadata": {},
   "outputs": [],
   "source": [
    "cat_cols = df[['state','area code']] #categorie columns\n",
    "\n",
    "#binary_cols = df[['international plan', 'voice mail plan']] (doesnt need to be converted bc already in 1 and 0s)\n",
    "\n",
    "num_cols = df.drop(columns=['state','area code', 'churn', 'international plan', 'voice mail plan']) \n",
    "#dropped categorical, binary, and target columns"
   ]
  },
  {
   "cell_type": "markdown",
   "metadata": {},
   "source": [
    "customer service calls could be treated as an ordinal column, but I am not using it as so."
   ]
  },
  {
   "cell_type": "code",
   "execution_count": 287,
   "metadata": {},
   "outputs": [],
   "source": [
    "subpipe_num = Pipeline(steps=[('ss', StandardScaler())]) #subpipe for numerical to scale\n",
    "subpipe_cat = Pipeline(steps=[('ohe', OneHotEncoder(sparse=False, handle_unknown='ignore'))]) #subpipe for categoricals to OHE"
   ]
  },
  {
   "cell_type": "code",
   "execution_count": 288,
   "metadata": {},
   "outputs": [],
   "source": [
    "ct = ColumnTransformer(transformers= [\n",
    "    ('subpipe_num', subpipe_num, num_cols.columns),\n",
    "    ('subpipe_cat', subpipe_cat, [0,2])\n",
    "], remainder='passthrough')  #passthrough adds the binary to the ct"
   ]
  },
  {
   "cell_type": "code",
   "execution_count": 289,
   "metadata": {
    "scrolled": true
   },
   "outputs": [
    {
     "data": {
      "text/html": [
       "<div>\n",
       "<style scoped>\n",
       "    .dataframe tbody tr th:only-of-type {\n",
       "        vertical-align: middle;\n",
       "    }\n",
       "\n",
       "    .dataframe tbody tr th {\n",
       "        vertical-align: top;\n",
       "    }\n",
       "\n",
       "    .dataframe thead th {\n",
       "        text-align: right;\n",
       "    }\n",
       "</style>\n",
       "<table border=\"1\" class=\"dataframe\">\n",
       "  <thead>\n",
       "    <tr style=\"text-align: right;\">\n",
       "      <th></th>\n",
       "      <th>0</th>\n",
       "      <th>1</th>\n",
       "      <th>2</th>\n",
       "      <th>3</th>\n",
       "      <th>4</th>\n",
       "      <th>5</th>\n",
       "      <th>6</th>\n",
       "      <th>7</th>\n",
       "      <th>8</th>\n",
       "      <th>9</th>\n",
       "      <th>...</th>\n",
       "      <th>57</th>\n",
       "      <th>58</th>\n",
       "      <th>59</th>\n",
       "      <th>60</th>\n",
       "      <th>61</th>\n",
       "      <th>62</th>\n",
       "      <th>63</th>\n",
       "      <th>64</th>\n",
       "      <th>65</th>\n",
       "      <th>66</th>\n",
       "    </tr>\n",
       "  </thead>\n",
       "  <tbody>\n",
       "    <tr>\n",
       "      <th>0</th>\n",
       "      <td>0.527291</td>\n",
       "      <td>-0.582315</td>\n",
       "      <td>1.682410</td>\n",
       "      <td>-0.416881</td>\n",
       "      <td>1.120060</td>\n",
       "      <td>-0.302652</td>\n",
       "      <td>-2.121425</td>\n",
       "      <td>-0.085379</td>\n",
       "      <td>0.204352</td>\n",
       "      <td>-0.606383</td>\n",
       "      <td>...</td>\n",
       "      <td>0.0</td>\n",
       "      <td>0.0</td>\n",
       "      <td>0.0</td>\n",
       "      <td>0.0</td>\n",
       "      <td>0.0</td>\n",
       "      <td>0.0</td>\n",
       "      <td>0.0</td>\n",
       "      <td>1.0</td>\n",
       "      <td>0.0</td>\n",
       "      <td>0.0</td>\n",
       "    </tr>\n",
       "    <tr>\n",
       "      <th>1</th>\n",
       "      <td>-1.376394</td>\n",
       "      <td>-0.582315</td>\n",
       "      <td>-1.691942</td>\n",
       "      <td>-1.055485</td>\n",
       "      <td>-1.906901</td>\n",
       "      <td>-0.649130</td>\n",
       "      <td>-0.108357</td>\n",
       "      <td>-0.129149</td>\n",
       "      <td>0.613876</td>\n",
       "      <td>-0.181249</td>\n",
       "      <td>...</td>\n",
       "      <td>0.0</td>\n",
       "      <td>0.0</td>\n",
       "      <td>0.0</td>\n",
       "      <td>0.0</td>\n",
       "      <td>0.0</td>\n",
       "      <td>0.0</td>\n",
       "      <td>1.0</td>\n",
       "      <td>0.0</td>\n",
       "      <td>0.0</td>\n",
       "      <td>0.0</td>\n",
       "    </tr>\n",
       "    <tr>\n",
       "      <th>2</th>\n",
       "      <td>-0.023776</td>\n",
       "      <td>1.547862</td>\n",
       "      <td>1.329865</td>\n",
       "      <td>0.615205</td>\n",
       "      <td>-0.897914</td>\n",
       "      <td>-0.479333</td>\n",
       "      <td>-0.005122</td>\n",
       "      <td>0.111587</td>\n",
       "      <td>-0.614695</td>\n",
       "      <td>-0.473528</td>\n",
       "      <td>...</td>\n",
       "      <td>0.0</td>\n",
       "      <td>0.0</td>\n",
       "      <td>0.0</td>\n",
       "      <td>0.0</td>\n",
       "      <td>0.0</td>\n",
       "      <td>0.0</td>\n",
       "      <td>1.0</td>\n",
       "      <td>0.0</td>\n",
       "      <td>0.0</td>\n",
       "      <td>1.0</td>\n",
       "    </tr>\n",
       "    <tr>\n",
       "      <th>3</th>\n",
       "      <td>0.151564</td>\n",
       "      <td>-0.582315</td>\n",
       "      <td>0.070779</td>\n",
       "      <td>1.132324</td>\n",
       "      <td>0.867814</td>\n",
       "      <td>-1.433868</td>\n",
       "      <td>-0.418060</td>\n",
       "      <td>-0.312984</td>\n",
       "      <td>0.613876</td>\n",
       "      <td>0.536165</td>\n",
       "      <td>...</td>\n",
       "      <td>0.0</td>\n",
       "      <td>0.0</td>\n",
       "      <td>0.0</td>\n",
       "      <td>0.0</td>\n",
       "      <td>0.0</td>\n",
       "      <td>0.0</td>\n",
       "      <td>1.0</td>\n",
       "      <td>0.0</td>\n",
       "      <td>0.0</td>\n",
       "      <td>0.0</td>\n",
       "    </tr>\n",
       "    <tr>\n",
       "      <th>4</th>\n",
       "      <td>1.429037</td>\n",
       "      <td>-0.582315</td>\n",
       "      <td>1.279502</td>\n",
       "      <td>0.403413</td>\n",
       "      <td>-0.696116</td>\n",
       "      <td>-0.720261</td>\n",
       "      <td>-0.830997</td>\n",
       "      <td>-0.120395</td>\n",
       "      <td>0.613876</td>\n",
       "      <td>0.071175</td>\n",
       "      <td>...</td>\n",
       "      <td>0.0</td>\n",
       "      <td>0.0</td>\n",
       "      <td>0.0</td>\n",
       "      <td>0.0</td>\n",
       "      <td>0.0</td>\n",
       "      <td>1.0</td>\n",
       "      <td>0.0</td>\n",
       "      <td>0.0</td>\n",
       "      <td>0.0</td>\n",
       "      <td>0.0</td>\n",
       "    </tr>\n",
       "    <tr>\n",
       "      <th>...</th>\n",
       "      <td>...</td>\n",
       "      <td>...</td>\n",
       "      <td>...</td>\n",
       "      <td>...</td>\n",
       "      <td>...</td>\n",
       "      <td>...</td>\n",
       "      <td>...</td>\n",
       "      <td>...</td>\n",
       "      <td>...</td>\n",
       "      <td>...</td>\n",
       "      <td>...</td>\n",
       "      <td>...</td>\n",
       "      <td>...</td>\n",
       "      <td>...</td>\n",
       "      <td>...</td>\n",
       "      <td>...</td>\n",
       "      <td>...</td>\n",
       "      <td>...</td>\n",
       "      <td>...</td>\n",
       "      <td>...</td>\n",
       "      <td>...</td>\n",
       "    </tr>\n",
       "    <tr>\n",
       "      <th>2494</th>\n",
       "      <td>-0.349406</td>\n",
       "      <td>-0.582315</td>\n",
       "      <td>0.423323</td>\n",
       "      <td>0.790445</td>\n",
       "      <td>-0.696116</td>\n",
       "      <td>-1.422395</td>\n",
       "      <td>-0.882614</td>\n",
       "      <td>1.731084</td>\n",
       "      <td>-0.205172</td>\n",
       "      <td>1.545859</td>\n",
       "      <td>...</td>\n",
       "      <td>0.0</td>\n",
       "      <td>0.0</td>\n",
       "      <td>0.0</td>\n",
       "      <td>0.0</td>\n",
       "      <td>0.0</td>\n",
       "      <td>0.0</td>\n",
       "      <td>0.0</td>\n",
       "      <td>1.0</td>\n",
       "      <td>0.0</td>\n",
       "      <td>0.0</td>\n",
       "    </tr>\n",
       "    <tr>\n",
       "      <th>2495</th>\n",
       "      <td>-0.574842</td>\n",
       "      <td>-0.582315</td>\n",
       "      <td>-0.785400</td>\n",
       "      <td>0.241074</td>\n",
       "      <td>0.262421</td>\n",
       "      <td>-0.552759</td>\n",
       "      <td>0.975603</td>\n",
       "      <td>-1.415993</td>\n",
       "      <td>-1.433743</td>\n",
       "      <td>-0.008538</td>\n",
       "      <td>...</td>\n",
       "      <td>0.0</td>\n",
       "      <td>0.0</td>\n",
       "      <td>0.0</td>\n",
       "      <td>0.0</td>\n",
       "      <td>0.0</td>\n",
       "      <td>0.0</td>\n",
       "      <td>1.0</td>\n",
       "      <td>0.0</td>\n",
       "      <td>0.0</td>\n",
       "      <td>0.0</td>\n",
       "    </tr>\n",
       "    <tr>\n",
       "      <th>2496</th>\n",
       "      <td>-1.025715</td>\n",
       "      <td>-0.582315</td>\n",
       "      <td>0.876594</td>\n",
       "      <td>0.255050</td>\n",
       "      <td>0.514668</td>\n",
       "      <td>-2.250729</td>\n",
       "      <td>1.749860</td>\n",
       "      <td>0.168488</td>\n",
       "      <td>1.432923</td>\n",
       "      <td>1.067583</td>\n",
       "      <td>...</td>\n",
       "      <td>1.0</td>\n",
       "      <td>0.0</td>\n",
       "      <td>0.0</td>\n",
       "      <td>0.0</td>\n",
       "      <td>0.0</td>\n",
       "      <td>0.0</td>\n",
       "      <td>1.0</td>\n",
       "      <td>0.0</td>\n",
       "      <td>0.0</td>\n",
       "      <td>0.0</td>\n",
       "    </tr>\n",
       "    <tr>\n",
       "      <th>2497</th>\n",
       "      <td>-0.073873</td>\n",
       "      <td>-0.582315</td>\n",
       "      <td>0.322596</td>\n",
       "      <td>-1.957485</td>\n",
       "      <td>0.161523</td>\n",
       "      <td>-0.275118</td>\n",
       "      <td>0.511049</td>\n",
       "      <td>-0.514327</td>\n",
       "      <td>-0.205172</td>\n",
       "      <td>0.111031</td>\n",
       "      <td>...</td>\n",
       "      <td>0.0</td>\n",
       "      <td>0.0</td>\n",
       "      <td>0.0</td>\n",
       "      <td>0.0</td>\n",
       "      <td>0.0</td>\n",
       "      <td>0.0</td>\n",
       "      <td>1.0</td>\n",
       "      <td>0.0</td>\n",
       "      <td>0.0</td>\n",
       "      <td>0.0</td>\n",
       "    </tr>\n",
       "    <tr>\n",
       "      <th>2498</th>\n",
       "      <td>1.454086</td>\n",
       "      <td>-0.582315</td>\n",
       "      <td>0.121142</td>\n",
       "      <td>1.752651</td>\n",
       "      <td>0.413769</td>\n",
       "      <td>-0.213165</td>\n",
       "      <td>-0.366442</td>\n",
       "      <td>0.444240</td>\n",
       "      <td>0.204352</td>\n",
       "      <td>-1.004946</td>\n",
       "      <td>...</td>\n",
       "      <td>1.0</td>\n",
       "      <td>0.0</td>\n",
       "      <td>0.0</td>\n",
       "      <td>0.0</td>\n",
       "      <td>0.0</td>\n",
       "      <td>0.0</td>\n",
       "      <td>1.0</td>\n",
       "      <td>0.0</td>\n",
       "      <td>0.0</td>\n",
       "      <td>0.0</td>\n",
       "    </tr>\n",
       "  </tbody>\n",
       "</table>\n",
       "<p>2499 rows × 67 columns</p>\n",
       "</div>"
      ],
      "text/plain": [
       "            0         1         2         3         4         5         6   \\\n",
       "0     0.527291 -0.582315  1.682410 -0.416881  1.120060 -0.302652 -2.121425   \n",
       "1    -1.376394 -0.582315 -1.691942 -1.055485 -1.906901 -0.649130 -0.108357   \n",
       "2    -0.023776  1.547862  1.329865  0.615205 -0.897914 -0.479333 -0.005122   \n",
       "3     0.151564 -0.582315  0.070779  1.132324  0.867814 -1.433868 -0.418060   \n",
       "4     1.429037 -0.582315  1.279502  0.403413 -0.696116 -0.720261 -0.830997   \n",
       "...        ...       ...       ...       ...       ...       ...       ...   \n",
       "2494 -0.349406 -0.582315  0.423323  0.790445 -0.696116 -1.422395 -0.882614   \n",
       "2495 -0.574842 -0.582315 -0.785400  0.241074  0.262421 -0.552759  0.975603   \n",
       "2496 -1.025715 -0.582315  0.876594  0.255050  0.514668 -2.250729  1.749860   \n",
       "2497 -0.073873 -0.582315  0.322596 -1.957485  0.161523 -0.275118  0.511049   \n",
       "2498  1.454086 -0.582315  0.121142  1.752651  0.413769 -0.213165 -0.366442   \n",
       "\n",
       "            7         8         9   ...   57   58   59   60   61   62   63  \\\n",
       "0    -0.085379  0.204352 -0.606383  ...  0.0  0.0  0.0  0.0  0.0  0.0  0.0   \n",
       "1    -0.129149  0.613876 -0.181249  ...  0.0  0.0  0.0  0.0  0.0  0.0  1.0   \n",
       "2     0.111587 -0.614695 -0.473528  ...  0.0  0.0  0.0  0.0  0.0  0.0  1.0   \n",
       "3    -0.312984  0.613876  0.536165  ...  0.0  0.0  0.0  0.0  0.0  0.0  1.0   \n",
       "4    -0.120395  0.613876  0.071175  ...  0.0  0.0  0.0  0.0  0.0  1.0  0.0   \n",
       "...        ...       ...       ...  ...  ...  ...  ...  ...  ...  ...  ...   \n",
       "2494  1.731084 -0.205172  1.545859  ...  0.0  0.0  0.0  0.0  0.0  0.0  0.0   \n",
       "2495 -1.415993 -1.433743 -0.008538  ...  0.0  0.0  0.0  0.0  0.0  0.0  1.0   \n",
       "2496  0.168488  1.432923  1.067583  ...  1.0  0.0  0.0  0.0  0.0  0.0  1.0   \n",
       "2497 -0.514327 -0.205172  0.111031  ...  0.0  0.0  0.0  0.0  0.0  0.0  1.0   \n",
       "2498  0.444240  0.204352 -1.004946  ...  1.0  0.0  0.0  0.0  0.0  0.0  1.0   \n",
       "\n",
       "       64   65   66  \n",
       "0     1.0  0.0  0.0  \n",
       "1     0.0  0.0  0.0  \n",
       "2     0.0  0.0  1.0  \n",
       "3     0.0  0.0  0.0  \n",
       "4     0.0  0.0  0.0  \n",
       "...   ...  ...  ...  \n",
       "2494  1.0  0.0  0.0  \n",
       "2495  0.0  0.0  0.0  \n",
       "2496  0.0  0.0  0.0  \n",
       "2497  0.0  0.0  0.0  \n",
       "2498  0.0  0.0  0.0  \n",
       "\n",
       "[2499 rows x 67 columns]"
      ]
     },
     "execution_count": 289,
     "metadata": {},
     "output_type": "execute_result"
    }
   ],
   "source": [
    "pd.DataFrame(ct.fit_transform(X_train)) #observing my output of my column transformer"
   ]
  },
  {
   "cell_type": "markdown",
   "metadata": {},
   "source": [
    "."
   ]
  },
  {
   "cell_type": "markdown",
   "metadata": {},
   "source": [
    "### SMOTE"
   ]
  },
  {
   "cell_type": "code",
   "execution_count": 290,
   "metadata": {},
   "outputs": [
    {
     "data": {
      "text/plain": [
       "(0    2850\n",
       " 1     483\n",
       " Name: churn, dtype: int64,\n",
       " 0    0.855086\n",
       " 1    0.144914\n",
       " Name: churn, dtype: float64)"
      ]
     },
     "execution_count": 290,
     "metadata": {},
     "output_type": "execute_result"
    }
   ],
   "source": [
    "df.churn.value_counts(), df.churn.value_counts(normalize=True) #returns the value_counts and percent of the value_counts"
   ]
  },
  {
   "cell_type": "markdown",
   "metadata": {},
   "source": [
    "There is a class imbalance so will use SMOTE to generate synthetic data to supplement the minority class in pipelines"
   ]
  },
  {
   "cell_type": "markdown",
   "metadata": {},
   "source": [
    "."
   ]
  },
  {
   "cell_type": "markdown",
   "metadata": {},
   "source": [
    "**Baseline model/ Dummy model**"
   ]
  },
  {
   "cell_type": "code",
   "execution_count": 291,
   "metadata": {},
   "outputs": [
    {
     "name": "stdout",
     "output_type": "stream",
     "text": [
      "cv = 0.8527414829659319 , train = 0.8527410964385754\n"
     ]
    }
   ],
   "source": [
    "imb_pipe_dummy= ImPipeline(steps=[('ct',ct), \n",
    "                            ('sm', SMOTE(random_state=3, sampling_strategy='minority')),\n",
    "                            ('dummy', DummyClassifier())])\n",
    "\n",
    "imb_pipe_dummy.fit(X_train, y_train)\n",
    "print(f'cv = {cross_val_score(imb_pipe_dummy, X_train, y_train).mean()} , train = {imb_pipe_dummy.score(X_train, y_train)}')"
   ]
  },
  {
   "cell_type": "markdown",
   "metadata": {},
   "source": [
    "."
   ]
  },
  {
   "cell_type": "markdown",
   "metadata": {},
   "source": [
    "## Looking at a variety of different types of algorithms"
   ]
  },
  {
   "cell_type": "markdown",
   "metadata": {},
   "source": [
    "**Overview!**\n",
    "\n",
    "I went through multiple different model defaults once and did additional hyperparameter tuning on the ones I wanted to look at more. \n",
    "\n",
    "Ran each model with Pipelines to avoid data leakage with cross validation.\n",
    "\n",
    "I think the VotingClassifier is cool and thats why I messed around with the weights, but it was not as desireable to dig in to deeper compared to RandomForestClassifier and GradientBoostingClassifier.\n",
    "\n",
    "The default models that yielded the best cross val scores were the RandomForestClassifier and GradientBoostingClassifier.  I proceeded to run grid searches on both of these models.\n",
    "\n",
    "After exploring the models the GradientBoostingClassifier after being hyperparameter turned yielded the best cross value score."
   ]
  },
  {
   "cell_type": "markdown",
   "metadata": {},
   "source": [
    "."
   ]
  },
  {
   "cell_type": "markdown",
   "metadata": {},
   "source": [
    "**LogisticRegression model**"
   ]
  },
  {
   "cell_type": "markdown",
   "metadata": {},
   "source": [
    "Default using Pipeline"
   ]
  },
  {
   "cell_type": "code",
   "execution_count": 292,
   "metadata": {},
   "outputs": [
    {
     "name": "stdout",
     "output_type": "stream",
     "text": [
      "cv = 0.7655102204408818 , train = 0.7847138855542217\n"
     ]
    }
   ],
   "source": [
    "imb_pipe_logreg = ImPipeline(steps=[('ct',ct),\n",
    "                            ('sm', SMOTE(random_state=3, sampling_strategy='minority')),\n",
    "                            ('logreg',LogisticRegression(random_state=3, max_iter=5000))]) \n",
    "\n",
    "#was recieving interation warnings so increased it\n",
    "\n",
    "imb_pipe_logreg.fit(X_train, y_train)\n",
    "print(f'cv = {cross_val_score(imb_pipe_logreg, X_train, y_train).mean()} , train = {imb_pipe_logreg.score(X_train, y_train)}')"
   ]
  },
  {
   "cell_type": "markdown",
   "metadata": {},
   "source": [
    "."
   ]
  },
  {
   "cell_type": "markdown",
   "metadata": {},
   "source": [
    "**KNneighborsClassifier model**"
   ]
  },
  {
   "cell_type": "markdown",
   "metadata": {},
   "source": [
    "Default using Pipeline"
   ]
  },
  {
   "cell_type": "code",
   "execution_count": 293,
   "metadata": {},
   "outputs": [
    {
     "name": "stdout",
     "output_type": "stream",
     "text": [
      "cv = 0.7278917835671342 , train = 0.8443377350940376\n"
     ]
    }
   ],
   "source": [
    "imb_pipe_knn = ImPipeline(steps=[('ct',ct),\n",
    "                            ('sm', SMOTE(random_state=3, sampling_strategy='minority')),\n",
    "                            ('knn',KNeighborsClassifier())])\n",
    "\n",
    "imb_pipe_knn.fit(X_train, y_train)\n",
    "print(f'cv = {cross_val_score(imb_pipe_knn, X_train, y_train).mean()} , train = {imb_pipe_knn.score(X_train, y_train)}')"
   ]
  },
  {
   "cell_type": "markdown",
   "metadata": {},
   "source": [
    "."
   ]
  },
  {
   "cell_type": "markdown",
   "metadata": {},
   "source": [
    "**DecisionTreeClassifier model**"
   ]
  },
  {
   "cell_type": "markdown",
   "metadata": {},
   "source": [
    "Default using Pipeline"
   ]
  },
  {
   "cell_type": "code",
   "execution_count": 294,
   "metadata": {},
   "outputs": [
    {
     "name": "stdout",
     "output_type": "stream",
     "text": [
      "cv = 0.8967567134268537 , train = 1.0\n"
     ]
    }
   ],
   "source": [
    "imb_pipe_dtc = ImPipeline(steps=[('ct',ct),\n",
    "                            ('sm', SMOTE(random_state=3, sampling_strategy='minority')),\n",
    "                            ('dtc',DecisionTreeClassifier(random_state=3))])\n",
    "\n",
    "imb_pipe_dtc.fit(X_train, y_train)\n",
    "print(f'cv = {cross_val_score(imb_pipe_dtc, X_train, y_train).mean()} , train = {imb_pipe_dtc.score(X_train, y_train)}')"
   ]
  },
  {
   "cell_type": "markdown",
   "metadata": {},
   "source": [
    "."
   ]
  },
  {
   "cell_type": "markdown",
   "metadata": {},
   "source": [
    "**VotingClassifier model**"
   ]
  },
  {
   "cell_type": "markdown",
   "metadata": {},
   "source": [
    "Default using Pipeline"
   ]
  },
  {
   "cell_type": "code",
   "execution_count": 295,
   "metadata": {},
   "outputs": [
    {
     "name": "stdout",
     "output_type": "stream",
     "text": [
      "cv = 0.8591422845691383 , train = 0.9455782312925171\n"
     ]
    }
   ],
   "source": [
    "avg = VotingClassifier(estimators=[\n",
    "    ('logreg',LogisticRegression(random_state=3, max_iter=5000)),\n",
    "    ('knn',KNeighborsClassifier()),\n",
    "    ('dtc', DecisionTreeClassifier(random_state=3))])\n",
    "\n",
    "\n",
    "imb_pipe_vote = ImPipeline(steps=[('ct',ct),\n",
    "                            ('sm', SMOTE(random_state=3, sampling_strategy='minority')),\n",
    "                            ('vote', avg)])\n",
    "imb_pipe_vote.fit(X_train, y_train)\n",
    "print(f'cv = {cross_val_score(imb_pipe_vote, X_train, y_train).mean()} , train = {imb_pipe_vote.score(X_train, y_train)}')"
   ]
  },
  {
   "cell_type": "markdown",
   "metadata": {},
   "source": [
    "I think the VotingClassifier is cool and thats why I messed around with the weights, but this default model was not as good as some other models so will not be used in final model."
   ]
  },
  {
   "cell_type": "code",
   "execution_count": 296,
   "metadata": {},
   "outputs": [
    {
     "name": "stdout",
     "output_type": "stream",
     "text": [
      "cv = 0.9107607214428859 , train = 1.0\n"
     ]
    }
   ],
   "source": [
    "avg = VotingClassifier(estimators=[\n",
    "    ('logreg',LogisticRegression(random_state=3, max_iter=5000)),\n",
    "    ('knn',KNeighborsClassifier()),\n",
    "    ('dtc', DecisionTreeClassifier(random_state=3))\n",
    "], weights=[.25,.25,.5])\n",
    "\n",
    "\n",
    "imb_pipe_vote1 = ImPipeline(steps=[('ct',ct),\n",
    "                            ('sm', SMOTE(random_state=3, sampling_strategy='minority')),\n",
    "                            ('vote', avg)])\n",
    "imb_pipe_vote1.fit(X_train, y_train)\n",
    "print(f'cv = {cross_val_score(imb_pipe_vote1, X_train, y_train).mean()} , train = {imb_pipe_vote1.score(X_train, y_train)}')"
   ]
  },
  {
   "cell_type": "markdown",
   "metadata": {},
   "source": [
    "Adding weights increased the cross val score.  Wanting to see how the variations may affect the model."
   ]
  },
  {
   "cell_type": "code",
   "execution_count": 297,
   "metadata": {},
   "outputs": [
    {
     "name": "stdout",
     "output_type": "stream",
     "text": [
      "cv = 0.8967567134268537 , train = 1.0\n"
     ]
    }
   ],
   "source": [
    "avg = VotingClassifier(estimators=[\n",
    "    ('logreg',LogisticRegression(random_state=3, max_iter=5000)),\n",
    "    ('knn',KNeighborsClassifier()),\n",
    "    ('dtc', DecisionTreeClassifier(random_state=3))\n",
    "], weights=[.20,.20,.6])\n",
    "\n",
    "\n",
    "imb_pipe_vote2 = ImPipeline(steps=[('ct',ct),\n",
    "                            ('sm', SMOTE(random_state=3, sampling_strategy='minority')),\n",
    "                            ('vote', avg)])\n",
    "imb_pipe_vote2.fit(X_train, y_train)\n",
    "print(f'cv = {cross_val_score(imb_pipe_vote2, X_train, y_train).mean()} , train = {imb_pipe_vote2.score(X_train, y_train)}')"
   ]
  },
  {
   "cell_type": "markdown",
   "metadata": {},
   "source": [
    "To much weight on dtc lowered from previous. Now lets see how giving more weight to the 2 estimators affect the cv_score"
   ]
  },
  {
   "cell_type": "code",
   "execution_count": 298,
   "metadata": {},
   "outputs": [
    {
     "name": "stdout",
     "output_type": "stream",
     "text": [
      "cv = 0.8527446893787575 , train = 0.9103641456582633\n"
     ]
    }
   ],
   "source": [
    "avg = VotingClassifier(estimators=[\n",
    "    ('logreg',LogisticRegression(random_state=3, max_iter=5000)),\n",
    "    ('knn',KNeighborsClassifier()),\n",
    "    ('dtc', DecisionTreeClassifier(random_state=3))\n",
    "], weights=[.5,.25,.25])\n",
    "\n",
    "\n",
    "imb_pipe_vote3 = ImPipeline(steps=[('ct',ct),\n",
    "                            ('sm', SMOTE(random_state=3, sampling_strategy='minority')),\n",
    "                            ('vote', avg)])\n",
    "imb_pipe_vote3.fit(X_train, y_train)\n",
    "print(f'cv = {cross_val_score(imb_pipe_vote3, X_train, y_train).mean()} , train = {imb_pipe_vote3.score(X_train, y_train)}')"
   ]
  },
  {
   "cell_type": "code",
   "execution_count": 299,
   "metadata": {},
   "outputs": [
    {
     "name": "stdout",
     "output_type": "stream",
     "text": [
      "cv = 0.8583414829659318 , train = 0.9455782312925171\n"
     ]
    }
   ],
   "source": [
    "avg = VotingClassifier(estimators=[\n",
    "    ('logreg',LogisticRegression(random_state=3, max_iter=5000)),\n",
    "    ('knn',KNeighborsClassifier()),\n",
    "    ('dtc', DecisionTreeClassifier(random_state=3))\n",
    "], weights=[.25,.5,.25])\n",
    "\n",
    "\n",
    "imb_pipe_vote4 = ImPipeline(steps=[('ct',ct),\n",
    "                            ('sm', SMOTE(random_state=3, sampling_strategy='minority')),\n",
    "                            ('vote', avg)])\n",
    "imb_pipe_vote4.fit(X_train, y_train)\n",
    "print(f'cv = {cross_val_score(imb_pipe_vote4, X_train, y_train).mean()} , train = {imb_pipe_vote4.score(X_train, y_train)}')"
   ]
  },
  {
   "cell_type": "markdown",
   "metadata": {},
   "source": [
    "Best Voting model so far was with the most weight on the dtc.  Lets see how using a RandomForestClassifier,  a different tree estimator compares. "
   ]
  },
  {
   "cell_type": "code",
   "execution_count": 300,
   "metadata": {},
   "outputs": [
    {
     "name": "stdout",
     "output_type": "stream",
     "text": [
      "cv = 0.9231655310621243 , train = 1.0\n"
     ]
    }
   ],
   "source": [
    "avg = VotingClassifier(estimators=[\n",
    "    ('logreg',LogisticRegression(random_state=3, max_iter=5000)),\n",
    "    ('knn',KNeighborsClassifier()),\n",
    "    ('rfc', RandomForestClassifier(random_state=3))\n",
    "], weights=[.25,.25,.5])\n",
    "\n",
    "\n",
    "imb_pipe_vote5 = ImPipeline(steps=[('ct',ct),\n",
    "                            ('sm', SMOTE(random_state=3, sampling_strategy='minority')),\n",
    "                            ('vote', avg)])\n",
    "imb_pipe_vote5.fit(X_train, y_train)\n",
    "print(f'cv = {cross_val_score(imb_pipe_vote5, X_train, y_train).mean()} , train = {imb_pipe_vote5.score(X_train, y_train)}')"
   ]
  },
  {
   "cell_type": "markdown",
   "metadata": {},
   "source": [
    "Best cv score yield so far."
   ]
  },
  {
   "cell_type": "markdown",
   "metadata": {},
   "source": [
    "."
   ]
  },
  {
   "cell_type": "markdown",
   "metadata": {},
   "source": [
    "**RandomForestClassifier model**"
   ]
  },
  {
   "cell_type": "markdown",
   "metadata": {},
   "source": [
    "Default using Pipeline"
   ]
  },
  {
   "cell_type": "code",
   "execution_count": 301,
   "metadata": {},
   "outputs": [
    {
     "name": "stdout",
     "output_type": "stream",
     "text": [
      "cv = 0.9263679358717436 , train = 1.0\n"
     ]
    }
   ],
   "source": [
    "imb_pipe_rfc = ImPipeline(steps=[('ct',ct),\n",
    "                            ('sm', SMOTE(random_state=3, sampling_strategy='minority')),\n",
    "                            ('rfc',RandomForestClassifier(random_state=3))])\n",
    "\n",
    "imb_pipe_rfc.fit(X_train, y_train)\n",
    "print(f'cv = {cross_val_score(imb_pipe_rfc, X_train, y_train).mean()} , train = {imb_pipe_rfc.score(X_train, y_train)}')"
   ]
  },
  {
   "cell_type": "markdown",
   "metadata": {},
   "source": [
    "Best score so far lets explore with a grid search."
   ]
  },
  {
   "cell_type": "code",
   "execution_count": 302,
   "metadata": {},
   "outputs": [],
   "source": [
    "parameters = {'rfc__criterion': ['gini', 'entropy'],\n",
    "          'rfc__max_depth': [2, 5, 10, 100]}\n",
    "\n",
    "\n",
    "gs_rfc = GridSearchCV(estimator=imb_pipe_rfc,\n",
    "                 param_grid=parameters,\n",
    "                 cv=5)"
   ]
  },
  {
   "cell_type": "code",
   "execution_count": 303,
   "metadata": {},
   "outputs": [
    {
     "data": {
      "text/plain": [
       "GridSearchCV(cv=5,\n",
       "             estimator=Pipeline(steps=[('ct',\n",
       "                                        ColumnTransformer(remainder='passthrough',\n",
       "                                                          transformers=[('subpipe_num',\n",
       "                                                                         Pipeline(steps=[('ss',\n",
       "                                                                                          StandardScaler())]),\n",
       "                                                                         Index(['account length', 'number vmail messages', 'total day calls',\n",
       "       'total day charge', 'total eve calls', 'total eve charge',\n",
       "       'total night calls', 'total night charge', 'total intl calls',\n",
       "       'total intl charge', 'customer service calls'],\n",
       "      dtype='object')),\n",
       "                                                                        ('subpipe_cat',\n",
       "                                                                         Pipeline(steps=[('ohe',\n",
       "                                                                                          OneHotEncoder(handle_unknown='ignore',\n",
       "                                                                                                        sparse=False))]),\n",
       "                                                                         [0,\n",
       "                                                                          2])])),\n",
       "                                       ('sm',\n",
       "                                        SMOTE(random_state=3,\n",
       "                                              sampling_strategy='minority')),\n",
       "                                       ('rfc',\n",
       "                                        RandomForestClassifier(random_state=3))]),\n",
       "             param_grid={'rfc__criterion': ['gini', 'entropy'],\n",
       "                         'rfc__max_depth': [2, 5, 10, 100]})"
      ]
     },
     "execution_count": 303,
     "metadata": {},
     "output_type": "execute_result"
    }
   ],
   "source": [
    "gs_rfc.fit(X_train, y_train)"
   ]
  },
  {
   "cell_type": "code",
   "execution_count": 304,
   "metadata": {},
   "outputs": [
    {
     "data": {
      "text/plain": [
       "0.934767134268537"
      ]
     },
     "execution_count": 304,
     "metadata": {},
     "output_type": "execute_result"
    }
   ],
   "source": [
    "gs_rfc.best_score_ #returns the grid search best score."
   ]
  },
  {
   "cell_type": "code",
   "execution_count": 305,
   "metadata": {},
   "outputs": [
    {
     "data": {
      "text/plain": [
       "{'rfc__criterion': 'entropy', 'rfc__max_depth': 100}"
      ]
     },
     "execution_count": 305,
     "metadata": {},
     "output_type": "execute_result"
    }
   ],
   "source": [
    "gs_rfc.best_params_ #returns the grid search best parameters."
   ]
  },
  {
   "cell_type": "markdown",
   "metadata": {},
   "source": [
    "Second best algorithym behind the GradientBoosterClassifier"
   ]
  },
  {
   "cell_type": "markdown",
   "metadata": {},
   "source": [
    "."
   ]
  },
  {
   "cell_type": "markdown",
   "metadata": {},
   "source": [
    "**GradientBoostingClassifier model**"
   ]
  },
  {
   "cell_type": "markdown",
   "metadata": {},
   "source": [
    "Default using Pipeline"
   ]
  },
  {
   "cell_type": "code",
   "execution_count": 306,
   "metadata": {},
   "outputs": [
    {
     "name": "stdout",
     "output_type": "stream",
     "text": [
      "cv = 0.9291695390781562 , train = 0.952781112444978\n"
     ]
    }
   ],
   "source": [
    "imb_pipe_gbc = ImPipeline(steps=[('ct',ct),\n",
    "                            ('sm', SMOTE(random_state=3, sampling_strategy='minority')),\n",
    "                            ('gbc', GradientBoostingClassifier(random_state=3))])\n",
    "\n",
    "imb_pipe_gbc.fit(X_train, y_train)\n",
    "print(f'cv = {cross_val_score(imb_pipe_gbc, X_train, y_train).mean()} , train = {imb_pipe_gbc.score(X_train, y_train)}')"
   ]
  },
  {
   "cell_type": "markdown",
   "metadata": {},
   "source": [
    "Higest defualt model.  Will run a gridsearch."
   ]
  },
  {
   "cell_type": "code",
   "execution_count": 307,
   "metadata": {},
   "outputs": [],
   "source": [
    "parameters = {'gbc__loss': ['deviance', 'exponential'],\n",
    "          'gbc__max_depth': [2, 5, 10]}\n",
    "\n",
    "\n",
    "gs2 = GridSearchCV(estimator=imb_pipe_gbc,\n",
    "                 param_grid=parameters,\n",
    "                 cv=5)"
   ]
  },
  {
   "cell_type": "code",
   "execution_count": 308,
   "metadata": {},
   "outputs": [
    {
     "data": {
      "text/plain": [
       "GridSearchCV(cv=5,\n",
       "             estimator=Pipeline(steps=[('ct',\n",
       "                                        ColumnTransformer(remainder='passthrough',\n",
       "                                                          transformers=[('subpipe_num',\n",
       "                                                                         Pipeline(steps=[('ss',\n",
       "                                                                                          StandardScaler())]),\n",
       "                                                                         Index(['account length', 'number vmail messages', 'total day calls',\n",
       "       'total day charge', 'total eve calls', 'total eve charge',\n",
       "       'total night calls', 'total night charge', 'total intl calls',\n",
       "       'total intl charge', 'customer service calls'],\n",
       "      dtype='object')),\n",
       "                                                                        ('subpipe_cat',\n",
       "                                                                         Pipeline(steps=[('ohe',\n",
       "                                                                                          OneHotEncoder(handle_unknown='ignore',\n",
       "                                                                                                        sparse=False))]),\n",
       "                                                                         [0,\n",
       "                                                                          2])])),\n",
       "                                       ('sm',\n",
       "                                        SMOTE(random_state=3,\n",
       "                                              sampling_strategy='minority')),\n",
       "                                       ('gbc',\n",
       "                                        GradientBoostingClassifier(random_state=3))]),\n",
       "             param_grid={'gbc__loss': ['deviance', 'exponential'],\n",
       "                         'gbc__max_depth': [2, 5, 10]})"
      ]
     },
     "execution_count": 308,
     "metadata": {},
     "output_type": "execute_result"
    }
   ],
   "source": [
    "gs2.fit(X_train,y_train)"
   ]
  },
  {
   "cell_type": "code",
   "execution_count": 309,
   "metadata": {},
   "outputs": [
    {
     "data": {
      "text/plain": [
       "{'gbc__loss': 'exponential', 'gbc__max_depth': 5}"
      ]
     },
     "execution_count": 309,
     "metadata": {},
     "output_type": "execute_result"
    }
   ],
   "source": [
    "gs2.best_params_ #returns the grid search best parameters."
   ]
  },
  {
   "cell_type": "code",
   "execution_count": 310,
   "metadata": {},
   "outputs": [
    {
     "data": {
      "text/plain": [
       "0.9451735470941884"
      ]
     },
     "execution_count": 310,
     "metadata": {},
     "output_type": "execute_result"
    }
   ],
   "source": [
    "gs2.best_score_ #returns the grid search best score."
   ]
  },
  {
   "cell_type": "markdown",
   "metadata": {},
   "source": [
    "Best model in this notebook.  This will be the final model."
   ]
  },
  {
   "cell_type": "markdown",
   "metadata": {},
   "source": [
    "."
   ]
  },
  {
   "cell_type": "markdown",
   "metadata": {},
   "source": [
    "."
   ]
  },
  {
   "cell_type": "markdown",
   "metadata": {},
   "source": [
    "."
   ]
  },
  {
   "cell_type": "markdown",
   "metadata": {},
   "source": [
    "## Final Model on the testing data"
   ]
  },
  {
   "cell_type": "code",
   "execution_count": 311,
   "metadata": {},
   "outputs": [
    {
     "name": "stderr",
     "output_type": "stream",
     "text": [
      "C:\\Users\\weesn\\anaconda3\\envs\\learn-env\\lib\\site-packages\\sklearn\\utils\\deprecation.py:87: FutureWarning: Function plot_confusion_matrix is deprecated; Function `plot_confusion_matrix` is deprecated in 1.0 and will be removed in 1.2. Use one of the class methods: ConfusionMatrixDisplay.from_predictions or ConfusionMatrixDisplay.from_estimator.\n",
      "  warnings.warn(msg, category=FutureWarning)\n"
     ]
    },
    {
     "data": {
      "text/plain": [
       "<sklearn.metrics._plot.confusion_matrix.ConfusionMatrixDisplay at 0x1be2f359c10>"
      ]
     },
     "execution_count": 311,
     "metadata": {},
     "output_type": "execute_result"
    },
    {
     "data": {
      "image/png": "[encoded data removed]",
      "text/plain": [
       "<Figure size 432x288 with 2 Axes>"
      ]
     },
     "metadata": {
      "needs_background": "light"
     },
     "output_type": "display_data"
    }
   ],
   "source": [
    "plot_confusion_matrix(gs2.best_estimator_, X_test, y_test)"
   ]
  },
  {
   "cell_type": "markdown",
   "metadata": {},
   "source": [
    "Calculating the performance metrics of our Final Model"
   ]
  },
  {
   "cell_type": "code",
   "execution_count": 312,
   "metadata": {},
   "outputs": [
    {
     "name": "stdout",
     "output_type": "stream",
     "text": [
      "\n",
      "Final model's accuracy on the test set is 0.95. \n",
      "\n",
      "Final model's precision on the test set is 0.81 \n",
      "\n",
      "Final model's recall on the test set is 0.8 \n",
      "\n",
      "Final model's f1-score on the test is 0.81.\n",
      "\n"
     ]
    }
   ],
   "source": [
    "acc = accuracy_score(y_test, gs2.best_estimator_.predict(X_test))\n",
    "rec = recall_score(y_test, gs2.best_estimator_.predict(X_test))\n",
    "pre = precision_score(y_test, gs2.best_estimator_.predict(X_test))\n",
    "f1 = f1_score(y_test, gs2.best_estimator_.predict(X_test))\n",
    "print(f\"\"\"\n",
    "Final model's accuracy on the test set is {round(acc, 2)}. \\n\n",
    "Final model's precision on the test set is {round(pre, 2)} \\n\n",
    "Final model's recall on the test set is {round(rec, 2)} \\n\n",
    "Final model's f1-score on the test is {round(f1, 2)}.\n",
    "\"\"\")"
   ]
  },
  {
   "cell_type": "markdown",
   "metadata": {},
   "source": [
    "Model does well on testing data.  Ideally when trying to improve model in the future I would like to reduce the false negative and false positive."
   ]
  },
  {
   "cell_type": "markdown",
   "metadata": {},
   "source": [
    "."
   ]
  },
  {
   "cell_type": "markdown",
   "metadata": {},
   "source": [
    "."
   ]
  },
  {
   "cell_type": "markdown",
   "metadata": {},
   "source": [
    "."
   ]
  },
  {
   "cell_type": "markdown",
   "metadata": {},
   "source": [
    "## Model Improvement "
   ]
  },
  {
   "cell_type": "markdown",
   "metadata": {},
   "source": [
    "Each algorithm type is shown below in the graph.  The models that aren't labled as tuned were the models run with defualt parameters.  The tuned models are the best score from the hyperparameter tuning groups."
   ]
  },
  {
   "cell_type": "code",
   "execution_count": 313,
   "metadata": {},
   "outputs": [
    {
     "data": {
      "text/plain": [
       "{'LogisticRegression': 0.766,\n",
       " 'KNneighborsClassifer': 0.728,\n",
       " 'DecisionTreeClassifier': 0.897,\n",
       " 'VotingClassifier': 0.859,\n",
       " 'VotingClassifier tuned': 0.923,\n",
       " 'RandomForestClassifier': 0.926,\n",
       " 'RandomForestClassifier tuned': 0.935,\n",
       " 'GradientBoostingClassifier': 0.929,\n",
       " 'GradientBoostingClassifier tuned': 0.945}"
      ]
     },
     "execution_count": 313,
     "metadata": {},
     "output_type": "execute_result"
    }
   ],
   "source": [
    "model_devolpment = {'LogisticRegression' : round(cross_val_score(imb_pipe_logreg, X_train, y_train).mean(),3),\n",
    "                   'KNneighborsClassifer': round(cross_val_score(imb_pipe_knn, X_train, y_train).mean(), 3),\n",
    "                   'DecisionTreeClassifier': round(cross_val_score(imb_pipe_dtc, X_train, y_train).mean(), 3),\n",
    "                   'VotingClassifier': round(cross_val_score(imb_pipe_vote, X_train, y_train).mean(), 3),\n",
    "                   'VotingClassifier tuned': round(cross_val_score(imb_pipe_vote5, X_train, y_train).mean(), 3),\n",
    "                   'RandomForestClassifier': round(cross_val_score(imb_pipe_rfc, X_train, y_train).mean(),3),\n",
    "                   'RandomForestClassifier tuned' : round(gs_rfc.best_score_, 3),\n",
    "                   'GradientBoostingClassifier': round(cross_val_score(imb_pipe_gbc, X_train, y_train).mean(),3),\n",
    "                   'GradientBoostingClassifier tuned' : round(gs2.best_score_, 3)}\n",
    "model_devolpment"
   ]
  },
  {
   "cell_type": "code",
   "execution_count": 314,
   "metadata": {
    "scrolled": false
   },
   "outputs": [
    {
     "data": {
      "image/png": "[encoded data removed]",
      "text/plain": [
       "<Figure size 1080x576 with 1 Axes>"
      ]
     },
     "metadata": {
      "needs_background": "light"
     },
     "output_type": "display_data"
    }
   ],
   "source": [
    "plt.figure(figsize=(15,8))\n",
    "plt.bar(model_devolpment.keys(), model_devolpment.values())\n",
    "\n",
    "plt.title('Model Development')\n",
    "plt.xlabel('Model Type')\n",
    "plt.ylabel('Cross Val Score')\n",
    "\n",
    "plt.xticks(rotation=75)\n",
    "plt.savefig('../images/model_improvement.jpg');"
   ]
  },
  {
   "cell_type": "markdown",
   "metadata": {},
   "source": [
    "GradientBoosterClassifier tuned was my best predictive model."
   ]
  },
  {
   "cell_type": "markdown",
   "metadata": {},
   "source": [
    "."
   ]
  },
  {
   "cell_type": "markdown",
   "metadata": {},
   "source": [
    "."
   ]
  },
  {
   "cell_type": "markdown",
   "metadata": {},
   "source": [
    "."
   ]
  },
  {
   "cell_type": "markdown",
   "metadata": {},
   "source": [
    "## Feature Importances"
   ]
  },
  {
   "cell_type": "markdown",
   "metadata": {},
   "source": [
    "Looking into the Final model feature importances.  These parameters were found through the gs2.best_params_"
   ]
  },
  {
   "cell_type": "code",
   "execution_count": 315,
   "metadata": {},
   "outputs": [
    {
     "data": {
      "text/plain": [
       "(0.9451735470941884, 0.9787915166066427)"
      ]
     },
     "execution_count": 315,
     "metadata": {},
     "output_type": "execute_result"
    }
   ],
   "source": [
    "Final_model = ImPipeline(steps=[('ct',ct),\n",
    "                            ('sm', SMOTE(random_state=3, sampling_strategy='minority')),\n",
    "                            ('gbc', GradientBoostingClassifier(loss='exponential', max_depth=5, random_state=3))])\n",
    "\n",
    "Final_model.fit(X_train, y_train)\n",
    "cross_val_score(Final_model, X_train, y_train).mean(), Final_model.score(X_train, y_train)"
   ]
  },
  {
   "cell_type": "markdown",
   "metadata": {},
   "source": [
    "Model is Overfit.  Whenever I get the time to improve the model work on making a better fit model."
   ]
  },
  {
   "cell_type": "markdown",
   "metadata": {},
   "source": [
    "Getting the feature information from out Final_model"
   ]
  },
  {
   "cell_type": "code",
   "execution_count": 316,
   "metadata": {},
   "outputs": [],
   "source": [
    "gbc_feature_names = Final_model[:-1].get_feature_names_out() #feature names after passed through the column transformer"
   ]
  },
  {
   "cell_type": "code",
   "execution_count": 317,
   "metadata": {},
   "outputs": [],
   "source": [
    "gbc_feature_importance = Final_model.named_steps['gbc'].feature_importances_ #feature importance"
   ]
  },
  {
   "cell_type": "code",
   "execution_count": 318,
   "metadata": {},
   "outputs": [
    {
     "data": {
      "text/plain": [
       "True"
      ]
     },
     "execution_count": 318,
     "metadata": {},
     "output_type": "execute_result"
    }
   ],
   "source": [
    "len(Final_model[:-1].get_feature_names_out()) == len(Final_model.named_steps['gbc'].feature_importances_)\n",
    "#making sure the lengths are the same before combing them into a pd.DataFrame"
   ]
  },
  {
   "cell_type": "code",
   "execution_count": 319,
   "metadata": {},
   "outputs": [],
   "source": [
    "best_feature_df = pd.DataFrame({'feature_names' : gbc_feature_names,  'feature_importance' : gbc_feature_importance})\n",
    "# feature_names and feature_importance are both in the correct order with eachother so can combine into dataframe"
   ]
  },
  {
   "cell_type": "code",
   "execution_count": 320,
   "metadata": {
    "scrolled": true
   },
   "outputs": [
    {
     "data": {
      "text/html": [
       "<div>\n",
       "<style scoped>\n",
       "    .dataframe tbody tr th:only-of-type {\n",
       "        vertical-align: middle;\n",
       "    }\n",
       "\n",
       "    .dataframe tbody tr th {\n",
       "        vertical-align: top;\n",
       "    }\n",
       "\n",
       "    .dataframe thead th {\n",
       "        text-align: right;\n",
       "    }\n",
       "</style>\n",
       "<table border=\"1\" class=\"dataframe\">\n",
       "  <thead>\n",
       "    <tr style=\"text-align: right;\">\n",
       "      <th></th>\n",
       "      <th>feature_names</th>\n",
       "      <th>feature_importance</th>\n",
       "    </tr>\n",
       "  </thead>\n",
       "  <tbody>\n",
       "    <tr>\n",
       "      <th>10</th>\n",
       "      <td>subpipe_num__customer service calls</td>\n",
       "      <td>2.259679e-01</td>\n",
       "    </tr>\n",
       "    <tr>\n",
       "      <th>3</th>\n",
       "      <td>subpipe_num__total day charge</td>\n",
       "      <td>2.248785e-01</td>\n",
       "    </tr>\n",
       "    <tr>\n",
       "      <th>65</th>\n",
       "      <td>remainder__international plan</td>\n",
       "      <td>1.608697e-01</td>\n",
       "    </tr>\n",
       "    <tr>\n",
       "      <th>5</th>\n",
       "      <td>subpipe_num__total eve charge</td>\n",
       "      <td>8.228862e-02</td>\n",
       "    </tr>\n",
       "    <tr>\n",
       "      <th>8</th>\n",
       "      <td>subpipe_num__total intl calls</td>\n",
       "      <td>5.066164e-02</td>\n",
       "    </tr>\n",
       "    <tr>\n",
       "      <th>...</th>\n",
       "      <td>...</td>\n",
       "      <td>...</td>\n",
       "    </tr>\n",
       "    <tr>\n",
       "      <th>47</th>\n",
       "      <td>subpipe_cat__state_OK</td>\n",
       "      <td>5.206200e-06</td>\n",
       "    </tr>\n",
       "    <tr>\n",
       "      <th>44</th>\n",
       "      <td>subpipe_cat__state_NV</td>\n",
       "      <td>3.420319e-17</td>\n",
       "    </tr>\n",
       "    <tr>\n",
       "      <th>49</th>\n",
       "      <td>subpipe_cat__state_PA</td>\n",
       "      <td>0.000000e+00</td>\n",
       "    </tr>\n",
       "    <tr>\n",
       "      <th>27</th>\n",
       "      <td>subpipe_cat__state_KS</td>\n",
       "      <td>0.000000e+00</td>\n",
       "    </tr>\n",
       "    <tr>\n",
       "      <th>11</th>\n",
       "      <td>subpipe_cat__state_AK</td>\n",
       "      <td>0.000000e+00</td>\n",
       "    </tr>\n",
       "  </tbody>\n",
       "</table>\n",
       "<p>67 rows × 2 columns</p>\n",
       "</div>"
      ],
      "text/plain": [
       "                          feature_names  feature_importance\n",
       "10  subpipe_num__customer service calls        2.259679e-01\n",
       "3         subpipe_num__total day charge        2.248785e-01\n",
       "65        remainder__international plan        1.608697e-01\n",
       "5         subpipe_num__total eve charge        8.228862e-02\n",
       "8         subpipe_num__total intl calls        5.066164e-02\n",
       "..                                  ...                 ...\n",
       "47                subpipe_cat__state_OK        5.206200e-06\n",
       "44                subpipe_cat__state_NV        3.420319e-17\n",
       "49                subpipe_cat__state_PA        0.000000e+00\n",
       "27                subpipe_cat__state_KS        0.000000e+00\n",
       "11                subpipe_cat__state_AK        0.000000e+00\n",
       "\n",
       "[67 rows x 2 columns]"
      ]
     },
     "execution_count": 320,
     "metadata": {},
     "output_type": "execute_result"
    }
   ],
   "source": [
    "best_feature_df.sort_values('feature_importance', ascending=False)\n",
    "#sorted the importance from most to least"
   ]
  },
  {
   "cell_type": "markdown",
   "metadata": {},
   "source": [
    "Top 3 Feature importances were customer service calls, total day charge, and international plan.  **Continue onto Feature Important Analysis notebook** to follow analysis in these 3 feature importances. "
   ]
  }
 ],
 "metadata": {
  "kernelspec": {
   "display_name": "Python (learn-env)",
   "language": "python",
   "name": "learn-env"
  },
  "language_info": {
   "codemirror_mode": {
    "name": "ipython",
    "version": 3
   },
   "file_extension": ".py",
   "mimetype": "text/x-python",
   "name": "python",
   "nbconvert_exporter": "python",
   "pygments_lexer": "ipython3",
   "version": "3.8.5"
  }
 },
 "nbformat": 4,
 "nbformat_minor": 4
}
