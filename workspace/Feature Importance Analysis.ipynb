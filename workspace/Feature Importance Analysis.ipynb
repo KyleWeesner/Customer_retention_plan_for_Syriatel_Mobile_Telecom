{
 "cells": [
  {
   "cell_type": "code",
   "execution_count": 1,
   "metadata": {},
   "outputs": [],
   "source": [
    "import pandas as pd\n",
    "import seaborn as sns\n",
    "import numpy as np\n",
    "import matplotlib.pyplot as plt\n",
    "from scipy import stats"
   ]
  },
  {
   "cell_type": "code",
   "execution_count": 2,
   "metadata": {},
   "outputs": [
    {
     "data": {
      "text/html": [
       "<div>\n",
       "<style scoped>\n",
       "    .dataframe tbody tr th:only-of-type {\n",
       "        vertical-align: middle;\n",
       "    }\n",
       "\n",
       "    .dataframe tbody tr th {\n",
       "        vertical-align: top;\n",
       "    }\n",
       "\n",
       "    .dataframe thead th {\n",
       "        text-align: right;\n",
       "    }\n",
       "</style>\n",
       "<table border=\"1\" class=\"dataframe\">\n",
       "  <thead>\n",
       "    <tr style=\"text-align: right;\">\n",
       "      <th></th>\n",
       "      <th>state</th>\n",
       "      <th>account length</th>\n",
       "      <th>area code</th>\n",
       "      <th>international plan</th>\n",
       "      <th>voice mail plan</th>\n",
       "      <th>number vmail messages</th>\n",
       "      <th>total day calls</th>\n",
       "      <th>total day charge</th>\n",
       "      <th>total eve calls</th>\n",
       "      <th>total eve charge</th>\n",
       "      <th>total night calls</th>\n",
       "      <th>total night charge</th>\n",
       "      <th>total intl calls</th>\n",
       "      <th>total intl charge</th>\n",
       "      <th>customer service calls</th>\n",
       "      <th>churn</th>\n",
       "    </tr>\n",
       "  </thead>\n",
       "  <tbody>\n",
       "    <tr>\n",
       "      <th>0</th>\n",
       "      <td>KS</td>\n",
       "      <td>128</td>\n",
       "      <td>415</td>\n",
       "      <td>0</td>\n",
       "      <td>1</td>\n",
       "      <td>25</td>\n",
       "      <td>110</td>\n",
       "      <td>45.07</td>\n",
       "      <td>99</td>\n",
       "      <td>16.78</td>\n",
       "      <td>91</td>\n",
       "      <td>11.01</td>\n",
       "      <td>3</td>\n",
       "      <td>2.70</td>\n",
       "      <td>1</td>\n",
       "      <td>0</td>\n",
       "    </tr>\n",
       "    <tr>\n",
       "      <th>1</th>\n",
       "      <td>OH</td>\n",
       "      <td>107</td>\n",
       "      <td>415</td>\n",
       "      <td>0</td>\n",
       "      <td>1</td>\n",
       "      <td>26</td>\n",
       "      <td>123</td>\n",
       "      <td>27.47</td>\n",
       "      <td>103</td>\n",
       "      <td>16.62</td>\n",
       "      <td>103</td>\n",
       "      <td>11.45</td>\n",
       "      <td>3</td>\n",
       "      <td>3.70</td>\n",
       "      <td>1</td>\n",
       "      <td>0</td>\n",
       "    </tr>\n",
       "    <tr>\n",
       "      <th>2</th>\n",
       "      <td>NJ</td>\n",
       "      <td>137</td>\n",
       "      <td>415</td>\n",
       "      <td>0</td>\n",
       "      <td>0</td>\n",
       "      <td>0</td>\n",
       "      <td>114</td>\n",
       "      <td>41.38</td>\n",
       "      <td>110</td>\n",
       "      <td>10.30</td>\n",
       "      <td>104</td>\n",
       "      <td>7.32</td>\n",
       "      <td>5</td>\n",
       "      <td>3.29</td>\n",
       "      <td>0</td>\n",
       "      <td>0</td>\n",
       "    </tr>\n",
       "    <tr>\n",
       "      <th>3</th>\n",
       "      <td>OH</td>\n",
       "      <td>84</td>\n",
       "      <td>408</td>\n",
       "      <td>1</td>\n",
       "      <td>0</td>\n",
       "      <td>0</td>\n",
       "      <td>71</td>\n",
       "      <td>50.90</td>\n",
       "      <td>88</td>\n",
       "      <td>5.26</td>\n",
       "      <td>89</td>\n",
       "      <td>8.86</td>\n",
       "      <td>7</td>\n",
       "      <td>1.78</td>\n",
       "      <td>2</td>\n",
       "      <td>0</td>\n",
       "    </tr>\n",
       "    <tr>\n",
       "      <th>4</th>\n",
       "      <td>OK</td>\n",
       "      <td>75</td>\n",
       "      <td>415</td>\n",
       "      <td>1</td>\n",
       "      <td>0</td>\n",
       "      <td>0</td>\n",
       "      <td>113</td>\n",
       "      <td>28.34</td>\n",
       "      <td>122</td>\n",
       "      <td>12.61</td>\n",
       "      <td>121</td>\n",
       "      <td>8.41</td>\n",
       "      <td>3</td>\n",
       "      <td>2.73</td>\n",
       "      <td>3</td>\n",
       "      <td>0</td>\n",
       "    </tr>\n",
       "  </tbody>\n",
       "</table>\n",
       "</div>"
      ],
      "text/plain": [
       "  state  account length  area code  international plan  voice mail plan  \\\n",
       "0    KS             128        415                   0                1   \n",
       "1    OH             107        415                   0                1   \n",
       "2    NJ             137        415                   0                0   \n",
       "3    OH              84        408                   1                0   \n",
       "4    OK              75        415                   1                0   \n",
       "\n",
       "   number vmail messages  total day calls  total day charge  total eve calls  \\\n",
       "0                     25              110             45.07               99   \n",
       "1                     26              123             27.47              103   \n",
       "2                      0              114             41.38              110   \n",
       "3                      0               71             50.90               88   \n",
       "4                      0              113             28.34              122   \n",
       "\n",
       "   total eve charge  total night calls  total night charge  total intl calls  \\\n",
       "0             16.78                 91               11.01                 3   \n",
       "1             16.62                103               11.45                 3   \n",
       "2             10.30                104                7.32                 5   \n",
       "3              5.26                 89                8.86                 7   \n",
       "4             12.61                121                8.41                 3   \n",
       "\n",
       "   total intl charge  customer service calls  churn  \n",
       "0               2.70                       1      0  \n",
       "1               3.70                       1      0  \n",
       "2               3.29                       0      0  \n",
       "3               1.78                       2      0  \n",
       "4               2.73                       3      0  "
      ]
     },
     "execution_count": 2,
     "metadata": {},
     "output_type": "execute_result"
    }
   ],
   "source": [
    "df = pd.read_csv('../data/clean_df.csv', index_col=0)\n",
    "df.head()"
   ]
  },
  {
   "cell_type": "markdown",
   "metadata": {},
   "source": [
    "### Will be analyzing the top 3 feature importances from my best model\n",
    "- customer service calls\n",
    "- total day charge\n",
    "- international plan"
   ]
  },
  {
   "cell_type": "code",
   "execution_count": 3,
   "metadata": {},
   "outputs": [],
   "source": [
    "df_stay = df[df.churn == 0]\n",
    "df_churn = df[df.churn == 1]"
   ]
  },
  {
   "cell_type": "markdown",
   "metadata": {},
   "source": [
    "## Customer Service Calls"
   ]
  },
  {
   "cell_type": "code",
   "execution_count": 4,
   "metadata": {},
   "outputs": [
    {
     "data": {
      "image/png": "[encoded data removed]",
      "text/plain": [
       "<Figure size 432x288 with 1 Axes>"
      ]
     },
     "metadata": {
      "needs_background": "light"
     },
     "output_type": "display_data"
    }
   ],
   "source": [
    "plt.hist(df['customer service calls']), plt.hist(df_stay['customer service calls']);"
   ]
  },
  {
   "cell_type": "code",
   "execution_count": 5,
   "metadata": {},
   "outputs": [
    {
     "data": {
      "image/png": "[encoded data removed]",
      "text/plain": [
       "<Figure size 432x288 with 1 Axes>"
      ]
     },
     "metadata": {
      "needs_background": "light"
     },
     "output_type": "display_data"
    }
   ],
   "source": [
    "plt.hist(df['customer service calls']), plt.hist(df_churn['customer service calls']);"
   ]
  },
  {
   "cell_type": "code",
   "execution_count": 6,
   "metadata": {},
   "outputs": [],
   "source": [
    "df_viz = df.copy()\n",
    "df_viz.loc[df_viz['customer service calls'] >= 6, 'customer service calls'] = 6"
   ]
  },
  {
   "cell_type": "code",
   "execution_count": 7,
   "metadata": {},
   "outputs": [
    {
     "data": {
      "text/plain": [
       "Int64Index([0, 1, 2, 3, 4, 5, 6], dtype='int64')"
      ]
     },
     "execution_count": 7,
     "metadata": {},
     "output_type": "execute_result"
    }
   ],
   "source": [
    "df_viz['customer service calls'].value_counts().sort_index().index"
   ]
  },
  {
   "cell_type": "code",
   "execution_count": 8,
   "metadata": {},
   "outputs": [],
   "source": [
    "df_viz_churn = df_viz[df_viz.churn==1]"
   ]
  },
  {
   "cell_type": "code",
   "execution_count": 9,
   "metadata": {},
   "outputs": [
    {
     "data": {
      "text/plain": [
       "[0, 1, 2, 3, 4, 5, 6]"
      ]
     },
     "execution_count": 9,
     "metadata": {},
     "output_type": "execute_result"
    }
   ],
   "source": [
    "df_viz['customer service calls'].value_counts().sort_index().index.tolist()"
   ]
  },
  {
   "cell_type": "code",
   "execution_count": 10,
   "metadata": {},
   "outputs": [
    {
     "data": {
      "image/png": "[encoded data removed]",
      "text/plain": [
       "<Figure size 432x288 with 1 Axes>"
      ]
     },
     "metadata": {
      "needs_background": "light"
     },
     "output_type": "display_data"
    }
   ],
   "source": [
    "plt.bar((df_viz['customer service calls'].value_counts().sort_index().index), (df_viz_churn['customer service calls'].value_counts().sort_index().values / df_viz['customer service calls'].value_counts().sort_index().values),\n",
    "       color='tab:orange')\n",
    "\n",
    "plt.xticks(ticks=df_viz['customer service calls'].value_counts().sort_index().index, labels=['0','1','2','3','4','5','6+'])\n",
    "plt.xlabel('Customer Service Calls')\n",
    "plt.ylabel('Percent')\n",
    "plt.title('Customer Service Calls Churn Percentage of Total')\n",
    "\n",
    "plt.savefig('../images/customers_service_calls.jpg',\n",
    "            transparent = False,bbox_inches=\"tight\")\n",
    "plt.show();"
   ]
  },
  {
   "cell_type": "code",
   "execution_count": 11,
   "metadata": {},
   "outputs": [
    {
     "name": "stdout",
     "output_type": "stream",
     "text": [
      "\n",
      "churn : [ 92 122  87  44  76  40  22] \n",
      "\n",
      "total : [ 697 1181  759  429  166   66   35] \n",
      "\n",
      "Percent : [13.2  10.33 11.46 10.26 45.78 60.61 62.86] %\n"
     ]
    }
   ],
   "source": [
    "viz_churn = df_viz_churn['customer service calls'].value_counts().sort_index().values\n",
    "viz_total = df_viz['customer service calls'].value_counts().sort_index().values\n",
    "viz_percent = np.ndarray.round(viz_churn/viz_total *100, decimals=2)\n",
    "print(f\"\"\"\n",
    "churn : {viz_churn} \\n\n",
    "total : {viz_total} \\n\n",
    "Percent : {viz_percent} %\"\"\")\n"
   ]
  },
  {
   "cell_type": "markdown",
   "metadata": {},
   "source": [
    "appears that by 4 customers calls ooks like a drastic amount of people drop or switch to a different provider."
   ]
  },
  {
   "cell_type": "markdown",
   "metadata": {},
   "source": [
    "."
   ]
  },
  {
   "cell_type": "markdown",
   "metadata": {},
   "source": [
    "."
   ]
  },
  {
   "cell_type": "markdown",
   "metadata": {},
   "source": [
    "."
   ]
  },
  {
   "cell_type": "markdown",
   "metadata": {},
   "source": [
    "## Total Day Charge"
   ]
  },
  {
   "cell_type": "code",
   "execution_count": 12,
   "metadata": {},
   "outputs": [
    {
     "data": {
      "image/png": "[encoded data removed]",
      "text/plain": [
       "<Figure size 432x288 with 1 Axes>"
      ]
     },
     "metadata": {
      "needs_background": "light"
     },
     "output_type": "display_data"
    }
   ],
   "source": [
    "plt.hist(df_stay['total day charge']), plt.hist(df_churn['total day charge']);"
   ]
  },
  {
   "cell_type": "code",
   "execution_count": 13,
   "metadata": {},
   "outputs": [
    {
     "data": {
      "text/plain": [
       "Ttest_1sampResult(statistic=10.109228512661401, pvalue=6.4305424235249905e-22)"
      ]
     },
     "execution_count": 13,
     "metadata": {},
     "output_type": "execute_result"
    }
   ],
   "source": [
    "churn_tdc_list = list(df_churn['total day charge'])\n",
    "result = stats.ttest_1samp(churn_tdc_list, df_stay['total day charge'].mean())\n",
    "t_stat, p_value = result\n",
    "result"
   ]
  },
  {
   "cell_type": "markdown",
   "metadata": {},
   "source": [
    "There is a difference!!"
   ]
  },
  {
   "cell_type": "code",
   "execution_count": 14,
   "metadata": {},
   "outputs": [
    {
     "data": {
      "text/plain": [
       "(29.780421052631578, 35.17592132505176)"
      ]
     },
     "execution_count": 14,
     "metadata": {},
     "output_type": "execute_result"
    }
   ],
   "source": [
    "df_stay['total day charge'].mean(), df_churn['total day charge'].mean()"
   ]
  },
  {
   "cell_type": "code",
   "execution_count": 15,
   "metadata": {
    "scrolled": true
   },
   "outputs": [
    {
     "data": {
      "image/png": "[encoded data removed]",
      "text/plain": [
       "<Figure size 432x360 with 1 Axes>"
      ]
     },
     "metadata": {
      "needs_background": "light"
     },
     "output_type": "display_data"
    }
   ],
   "source": [
    "# Numbers of pairs of bars you want\n",
    "N = 1\n",
    "\n",
    "# Data on X-axis\n",
    "\n",
    "# Specify the values of blue bars (height)\n",
    "blue_bar = (df_stay['total day charge'].mean())\n",
    "# Specify the values of orange bars (height)\n",
    "orange_bar = (df_churn['total day charge'].mean())\n",
    "\n",
    "# Position of bars on x-axis\n",
    "ind = np.arange(N)\n",
    "\n",
    "# Figure size\n",
    "plt.figure(figsize=(6,5))\n",
    "\n",
    "# Width of a bar \n",
    "width = 0.2      \n",
    "\n",
    "# Plotting\n",
    "plt.bar(ind, blue_bar , width, label='Customer Stayed')\n",
    "plt.bar(ind + width, orange_bar, width, label='Customers Churned')\n",
    "\n",
    "plt.xlabel('Status of Customer')\n",
    "plt.ylabel('Average Total Day Charge')\n",
    "plt.title('Average Total Day Charge for Customer Status')\n",
    "\n",
    "# xticks()\n",
    "# First argument - A list of positions at which ticks should be placed\n",
    "# Second argument -  A list of labels to place at the given locations\n",
    "plt.xticks([])\n",
    "\n",
    "# Finding the best position for legends and putting it\n",
    "plt.legend(loc='best')\n",
    "plt.show()"
   ]
  },
  {
   "cell_type": "code",
   "execution_count": 16,
   "metadata": {},
   "outputs": [
    {
     "data": {
      "image/png": "[encoded data removed]",
      "text/plain": [
       "<Figure size 432x288 with 1 Axes>"
      ]
     },
     "metadata": {
      "needs_background": "light"
     },
     "output_type": "display_data"
    }
   ],
   "source": [
    "boxs = {'Stay': df_stay['total day charge'], 'Left':df_churn['total day charge']}\n",
    "fig, ax = plt.subplots()\n",
    "ax.boxplot(boxs.values(), vert=False)\n",
    "ax.set_yticklabels(boxs.keys())\n",
    "ax.set_xlabel('Total Day Charged')\n",
    "ax.set_title('Stay and left Total day Charged');  "
   ]
  },
  {
   "cell_type": "code",
   "execution_count": 17,
   "metadata": {},
   "outputs": [
    {
     "name": "stdout",
     "output_type": "stream",
     "text": [
      "\n",
      "Churn quartiles on total day charged [26.055 36.99  45.21 ]. \n",
      "\n",
      "Customers still doing service with quartiles on total day charged [24.2825 30.12   35.75  ].\n"
     ]
    }
   ],
   "source": [
    "churn_tdc_quartiles = np.percentile(churn_tdc_list, [25,50,75]) \n",
    "stay_tdc_quartiles = np.percentile(list(df_stay['total day charge']), [25,50,75])\n",
    "\n",
    "print(f\"\"\"\n",
    "Churn quartiles on total day charged {churn_tdc_quartiles}. \\n\n",
    "Customers still doing service with quartiles on total day charged {stay_tdc_quartiles}.\"\"\"\n",
    ")"
   ]
  },
  {
   "cell_type": "code",
   "execution_count": 18,
   "metadata": {},
   "outputs": [],
   "source": [
    "df_stay_viz = df_stay.copy()\n",
    "df_churn_viz = df_churn.copy()"
   ]
  },
  {
   "cell_type": "code",
   "execution_count": 19,
   "metadata": {},
   "outputs": [],
   "source": [
    "vc0 = df_churn_viz.loc[df_churn_viz['total day charge'] <= churn_tdc_quartiles[0]]\n",
    "vc1 = df_churn_viz.loc[df_churn_viz['total day charge'] <= churn_tdc_quartiles[1]]\n",
    "vc2 = df_churn_viz.loc[df_churn_viz['total day charge'] <= churn_tdc_quartiles[2]]\n",
    "vc3 = df_churn_viz.loc[df_churn_viz['total day charge'] >= churn_tdc_quartiles[2]]\n",
    "vc_mean = [vc0['total day charge'].mean(), vc1['total day charge'].mean(),vc2['total day charge'].mean(),vc3['total day charge'].mean()]\n",
    "\n",
    "vs0 = df_stay_viz.loc[df_stay_viz['total day charge'] <= stay_tdc_quartiles[0]]\n",
    "vs1 = df_stay_viz.loc[df_stay_viz['total day charge'] <= stay_tdc_quartiles[1]]\n",
    "vs2 = df_stay_viz.loc[df_stay_viz['total day charge'] <= stay_tdc_quartiles[2]]\n",
    "vs3 = df_stay_viz.loc[df_stay_viz['total day charge'] >= stay_tdc_quartiles[2]]\n",
    "vs_mean = [vs0['total day charge'].mean(), vs1['total day charge'].mean(),vs2['total day charge'].mean(),vs3['total day charge'].mean()]"
   ]
  },
  {
   "cell_type": "code",
   "execution_count": 20,
   "metadata": {},
   "outputs": [
    {
     "data": {
      "text/plain": [
       "([19.819917355371903, 25.14111570247934, 30.40419889502763, 49.45165289256199],\n",
       " [18.680575035063114,\n",
       "  22.974205738278517,\n",
       "  26.286816269284714,\n",
       "  40.27163865546218])"
      ]
     },
     "execution_count": 20,
     "metadata": {},
     "output_type": "execute_result"
    }
   ],
   "source": [
    "vc_mean, vs_mean"
   ]
  },
  {
   "cell_type": "code",
   "execution_count": 21,
   "metadata": {},
   "outputs": [
    {
     "data": {
      "image/png": "[encoded data removed]",
      "text/plain": [
       "<Figure size 720x504 with 1 Axes>"
      ]
     },
     "metadata": {
      "needs_background": "light"
     },
     "output_type": "display_data"
    }
   ],
   "source": [
    "#Plot median performance at the box office\n",
    "\n",
    "fig,ax = plt.subplots(figsize = (10,7))\n",
    "\n",
    "labels = ['0-25%','25-50%','50-75%', '75-100%']\n",
    "#Graphs for median gross/net revenue by the month\n",
    "x = np.arange(len(labels)) \n",
    "w = 0.4\n",
    "\n",
    "ax.set_title(f'Averages of the Percentiles of the Customers Status')\n",
    "\n",
    "ax.bar(x-w/2, vs_mean, w)\n",
    "ax.bar(x+w/2, vc_mean, w)\n",
    "\n",
    "plt.xticks(x, labels=labels)\n",
    "ax.set_xlabel('Percentile Range')\n",
    "ax.set_ylabel('Total Day Charge')\n",
    "\n",
    "ax.legend(['Stay', 'Churn'])\n",
    "\n",
    "fig.savefig('../images/customers_status_percentile_averages.jpg',\n",
    "             transparent = False,bbox_inches=\"tight\", dpi=500);"
   ]
  },
  {
   "cell_type": "markdown",
   "metadata": {},
   "source": [
    "."
   ]
  },
  {
   "cell_type": "markdown",
   "metadata": {},
   "source": [
    "."
   ]
  },
  {
   "cell_type": "markdown",
   "metadata": {},
   "source": [
    "."
   ]
  },
  {
   "cell_type": "markdown",
   "metadata": {},
   "source": [
    "## International Plan"
   ]
  },
  {
   "cell_type": "code",
   "execution_count": 22,
   "metadata": {},
   "outputs": [],
   "source": [
    "no_int_len = len(df[df[\"international plan\"]==0])\n",
    "int_len = len(df[df[\"international plan\"]==1])\n",
    "\n",
    "no_int_chrun_len = len(df.loc[(df[\"international plan\"]==0) & (df.churn == 1)])\n",
    "int_chrun_len = len(df.loc[(df[\"international plan\"]==1) & (df.churn == 1)])"
   ]
  },
  {
   "cell_type": "code",
   "execution_count": 23,
   "metadata": {},
   "outputs": [
    {
     "data": {
      "image/png": "[encoded data removed]",
      "text/plain": [
       "<Figure size 720x360 with 1 Axes>"
      ]
     },
     "metadata": {
      "needs_background": "light"
     },
     "output_type": "display_data"
    }
   ],
   "source": [
    "# Numbers of pairs of bars you want\n",
    "N = 2\n",
    "\n",
    "# Data on X-axis\n",
    "\n",
    "# Specify the values of blue bars (height)\n",
    "blue_bar = (no_int_len, int_len)\n",
    "# Specify the values of orange bars (height)\n",
    "orange_bar = (no_int_chrun_len, int_chrun_len)\n",
    "\n",
    "# Position of bars on x-axis\n",
    "ind = np.arange(N)\n",
    "\n",
    "# Figure size\n",
    "plt.figure(figsize=(10,5))\n",
    "\n",
    "# Width of a bar \n",
    "width = 0.4      \n",
    "\n",
    "# Plotting\n",
    "plt.bar(ind, blue_bar , width, label='Total Customers')\n",
    "plt.bar(ind + width, orange_bar, width, label='Customers Churned')\n",
    "\n",
    "plt.xlabel('International Plan')\n",
    "plt.ylabel('Customer Count')\n",
    "plt.title('Retention Comparison of International Plan in Customers')\n",
    "\n",
    "# xticks()\n",
    "# First argument - A list of positions at which ticks should be placed\n",
    "# Second argument -  A list of labels to place at the given locations\n",
    "plt.xticks(ind + width / 2, ('No', 'Yes'))\n",
    "\n",
    "# Finding the best position for legends and putting it\n",
    "plt.legend(loc='best')\n",
    "plt.savefig('../images/retention_comparison_interrnational_plan.jpg')\n",
    "plt.show();"
   ]
  },
  {
   "cell_type": "code",
   "execution_count": 24,
   "metadata": {},
   "outputs": [
    {
     "name": "stdout",
     "output_type": "stream",
     "text": [
      " Percent of people who churn when they do not have an international plan 11%\n",
      " Percent of people who churn when they do have an international plan 42%\n"
     ]
    }
   ],
   "source": [
    "no_international_churn = no_int_chrun_len / no_int_len *100\n",
    "\n",
    "international_churn = int_chrun_len / int_len *100\n",
    "\n",
    "print(f' Percent of people who churn when they do not have an international plan {round(no_international_churn)}%')\n",
    "print(f' Percent of people who churn when they do have an international plan {round(international_churn)}%')"
   ]
  },
  {
   "cell_type": "code",
   "execution_count": null,
   "metadata": {},
   "outputs": [],
   "source": []
  }
 ],
 "metadata": {
  "kernelspec": {
   "display_name": "Python (learn-env)",
   "language": "python",
   "name": "learn-env"
  },
  "language_info": {
   "codemirror_mode": {
    "name": "ipython",
    "version": 3
   },
   "file_extension": ".py",
   "mimetype": "text/x-python",
   "name": "python",
   "nbconvert_exporter": "python",
   "pygments_lexer": "ipython3",
   "version": "3.8.5"
  }
 },
 "nbformat": 4,
 "nbformat_minor": 4
}
